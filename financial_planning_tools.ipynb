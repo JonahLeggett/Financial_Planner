{
 "cells": [
  {
   "cell_type": "markdown",
   "metadata": {},
   "source": [
    "# Financial Planning with APIs and Simulations\n",
    "\n",
    "In this Challenge, you’ll create two financial analysis tools by using a single Jupyter notebook:\n",
    "\n",
    "Part 1: A financial planner for emergencies. The members will be able to use this tool to visualize their current savings. The members can then determine if they have enough reserves for an emergency fund.\n",
    "\n",
    "Part 2: A financial planner for retirement. This tool will forecast the performance of their retirement portfolio in 30 years. To do this, the tool will make an Alpaca API call via the Alpaca SDK to get historical price data for use in Monte Carlo simulations.\n",
    "\n",
    "You’ll use the information from the Monte Carlo simulation to answer questions about the portfolio in your Jupyter notebook.\n",
    "\n"
   ]
  },
  {
   "cell_type": "code",
   "execution_count": 1,
   "metadata": {},
   "outputs": [],
   "source": [
    "# Import the required libraries and dependencies\n",
    "import os\n",
    "import requests\n",
    "import json\n",
    "import pandas as pd\n",
    "from dotenv import load_dotenv\n",
    "import alpaca_trade_api as tradeapi\n",
    "from MCForecastTools import MCSimulation\n",
    "\n",
    "%matplotlib inline"
   ]
  },
  {
   "cell_type": "code",
   "execution_count": 2,
   "metadata": {},
   "outputs": [
    {
     "data": {
      "text/plain": [
       "True"
      ]
     },
     "execution_count": 2,
     "metadata": {},
     "output_type": "execute_result"
    }
   ],
   "source": [
    "# Load the environment variables from the .env file\n",
    "#by calling the load_dotenv function\n",
    "load_dotenv()"
   ]
  },
  {
   "cell_type": "markdown",
   "metadata": {},
   "source": [
    "## Part 1: Create a Financial Planner for Emergencies"
   ]
  },
  {
   "cell_type": "markdown",
   "metadata": {},
   "source": [
    "### Evaluate the Cryptocurrency Wallet by Using the Requests Library\n",
    "\n",
    "In this section, you’ll determine the current value of a member’s cryptocurrency wallet. You’ll collect the current prices for the Bitcoin and Ethereum cryptocurrencies by using the Python Requests library. For the prototype, you’ll assume that the member holds the 1.2 Bitcoins (BTC) and 5.3 Ethereum coins (ETH). To do all this, complete the following steps:\n",
    "\n",
    "1. Create a variable named `monthly_income`, and set its value to `12000`.\n",
    "\n",
    "2. Use the Requests library to get the current price (in US dollars) of Bitcoin (BTC) and Ethereum (ETH) by using the API endpoints that the starter code supplies.\n",
    "\n",
    "3. Navigate the JSON response object to access the current price of each coin, and store each in a variable.\n",
    "\n",
    "    > **Hint** Note the specific identifier for each cryptocurrency in the API JSON response. The Bitcoin identifier is `1`, and the Ethereum identifier is `1027`.\n",
    "\n",
    "4. Calculate the value, in US dollars, of the current amount of each cryptocurrency and of the entire cryptocurrency wallet.\n",
    "\n"
   ]
  },
  {
   "cell_type": "code",
   "execution_count": 3,
   "metadata": {},
   "outputs": [],
   "source": [
    "# The current number of coins for each cryptocurrency asset held in the portfolio.\n",
    "btc_coins = 1.2\n",
    "eth_coins = 5.3"
   ]
  },
  {
   "cell_type": "markdown",
   "metadata": {},
   "source": [
    "#### Step 1: Create a variable named `monthly_income`, and set its value to `12000`."
   ]
  },
  {
   "cell_type": "code",
   "execution_count": 4,
   "metadata": {},
   "outputs": [],
   "source": [
    "# The monthly amount for the member's household income\n",
    "monthly_income = 12000\n"
   ]
  },
  {
   "cell_type": "markdown",
   "metadata": {},
   "source": [
    "#### Review the endpoint URLs for the API calls to Free Crypto API in order to get the current pricing information for both BTC and ETH."
   ]
  },
  {
   "cell_type": "code",
   "execution_count": 5,
   "metadata": {},
   "outputs": [],
   "source": [
    "# The Free Crypto API Call endpoint URLs for the held cryptocurrency assets\n",
    "btc_url = \"https://api.alternative.me/v2/ticker/Bitcoin/?convert=USD\"\n",
    "eth_url = \"https://api.alternative.me/v2/ticker/Ethereum/?convert=USD\""
   ]
  },
  {
   "cell_type": "markdown",
   "metadata": {},
   "source": [
    "#### Step 2. Use the Requests library to get the current price (in US dollars) of Bitcoin (BTC) and Ethereum (ETH) by using the API endpoints that the starter code supplied."
   ]
  },
  {
   "cell_type": "code",
   "execution_count": 6,
   "metadata": {},
   "outputs": [
    {
     "name": "stdout",
     "output_type": "stream",
     "text": [
      "{\n",
      "  \"data\": {\n",
      "    \"1\": {\n",
      "      \"circulating_supply\": 18697718,\n",
      "      \"id\": 1,\n",
      "      \"last_updated\": 1620012248,\n",
      "      \"max_supply\": 21000000,\n",
      "      \"name\": \"Bitcoin\",\n",
      "      \"quotes\": {\n",
      "        \"USD\": {\n",
      "          \"market_cap\": 1086117742055,\n",
      "          \"percent_change_1h\": -0.16455850610742,\n",
      "          \"percent_change_24h\": 1.20629330004397,\n",
      "          \"percent_change_7d\": 18.6254155236242,\n",
      "          \"percentage_change_1h\": -0.16455850610742,\n",
      "          \"percentage_change_24h\": 1.20629330004397,\n",
      "          \"percentage_change_7d\": 18.6254155236242,\n",
      "          \"price\": 58104.0,\n",
      "          \"volume_24h\": 41858612461\n",
      "        }\n",
      "      },\n",
      "      \"rank\": 1,\n",
      "      \"symbol\": \"BTC\",\n",
      "      \"total_supply\": 18697718,\n",
      "      \"website_slug\": \"bitcoin\"\n",
      "    }\n",
      "  },\n",
      "  \"metadata\": {\n",
      "    \"error\": null,\n",
      "    \"num_cryptocurrencies\": 1308,\n",
      "    \"timestamp\": 1620012248\n",
      "  }\n",
      "}\n"
     ]
    }
   ],
   "source": [
    "# Using the Python requests library, make an API call to access the current price of BTC\n",
    "btc_response = requests.get(btc_url).json()\n",
    "\n",
    "# Use the json.dumps function to review the response data from the API call\n",
    "# Use the indent and sort_keys parameters to make the response object readable\n",
    "print(json.dumps(btc_response, indent=2, sort_keys=True))\n"
   ]
  },
  {
   "cell_type": "code",
   "execution_count": 7,
   "metadata": {},
   "outputs": [
    {
     "name": "stdout",
     "output_type": "stream",
     "text": [
      "{\n",
      "    \"data\": {\n",
      "        \"1027\": {\n",
      "            \"circulating_supply\": 115716485,\n",
      "            \"id\": 1027,\n",
      "            \"last_updated\": 1620012210,\n",
      "            \"max_supply\": 0,\n",
      "            \"name\": \"Ethereum\",\n",
      "            \"quotes\": {\n",
      "                \"USD\": {\n",
      "                    \"market_cap\": 351498080491,\n",
      "                    \"percent_change_1h\": 0.755787304599896,\n",
      "                    \"percent_change_24h\": 3.51501791847957,\n",
      "                    \"percent_change_7d\": 31.9177170673453,\n",
      "                    \"percentage_change_1h\": 0.755787304599896,\n",
      "                    \"percentage_change_24h\": 3.51501791847957,\n",
      "                    \"percentage_change_7d\": 31.9177170673453,\n",
      "                    \"price\": 3043.81,\n",
      "                    \"volume_24h\": 39016931757\n",
      "                }\n",
      "            },\n",
      "            \"rank\": 2,\n",
      "            \"symbol\": \"ETH\",\n",
      "            \"total_supply\": 115716485,\n",
      "            \"website_slug\": \"ethereum\"\n",
      "        }\n",
      "    },\n",
      "    \"metadata\": {\n",
      "        \"error\": null,\n",
      "        \"num_cryptocurrencies\": 1308,\n",
      "        \"timestamp\": 1620012210\n",
      "    }\n",
      "}\n"
     ]
    }
   ],
   "source": [
    "# Using the Python requests library, make an API call to access the current price ETH\n",
    "eth_response = requests.get(eth_url).json()\n",
    "\n",
    "# Use the json.dumps function to review the response data from the API call\n",
    "# Use the indent and sort_keys parameters to make the response object readable\n",
    "print(json.dumps(eth_response, indent=4, sort_keys=True))\n"
   ]
  },
  {
   "cell_type": "markdown",
   "metadata": {},
   "source": [
    "#### Step 3: Navigate the JSON response object to access the current price of each coin, and store each in a variable."
   ]
  },
  {
   "cell_type": "code",
   "execution_count": 8,
   "metadata": {},
   "outputs": [
    {
     "name": "stdout",
     "output_type": "stream",
     "text": [
      "The current price of Bitcoin is $58104.0\n"
     ]
    }
   ],
   "source": [
    "# Navigate the BTC response object to access the current price of BTC\n",
    "btc_price = btc_response[\"data\"][\"1\"][\"quotes\"][\"USD\"][\"price\"]\n",
    "\n",
    "# Print the current price of BTC\n",
    "print(f\"The current price of Bitcoin is ${btc_price}\")\n"
   ]
  },
  {
   "cell_type": "code",
   "execution_count": 9,
   "metadata": {},
   "outputs": [
    {
     "name": "stdout",
     "output_type": "stream",
     "text": [
      "The current price of Ethereum is $3043.81\n"
     ]
    }
   ],
   "source": [
    "# Navigate the BTC response object to access the current price of ETH\n",
    "eth_price = eth_response[\"data\"][\"1027\"][\"quotes\"][\"USD\"][\"price\"]\n",
    "\n",
    "# Print the current price of ETH\n",
    "print(f\"The current price of Ethereum is ${eth_price}\")"
   ]
  },
  {
   "cell_type": "markdown",
   "metadata": {},
   "source": [
    "### Step 4: Calculate the value, in US dollars, of the current amount of each cryptocurrency and of the entire cryptocurrency wallet."
   ]
  },
  {
   "cell_type": "code",
   "execution_count": 10,
   "metadata": {},
   "outputs": [
    {
     "name": "stdout",
     "output_type": "stream",
     "text": [
      "The current value of your Bitcoin holdings is $69724.80\n"
     ]
    }
   ],
   "source": [
    "# Compute the current value of the BTC holding \n",
    "btc_value = btc_coins * btc_price\n",
    "\n",
    "# Print current value of your holding in BTC\n",
    "print(f\"The current value of your Bitcoin holdings is ${btc_value:.2f}\")\n"
   ]
  },
  {
   "cell_type": "code",
   "execution_count": 11,
   "metadata": {},
   "outputs": [
    {
     "name": "stdout",
     "output_type": "stream",
     "text": [
      "The current value of your Ethereum holdings is $16132.19\n"
     ]
    }
   ],
   "source": [
    "# Compute the current value of the ETH holding \n",
    "eth_value = eth_coins * eth_price\n",
    "\n",
    "# Print current value of your holding in ETH\n",
    "print(f\"The current value of your Ethereum holdings is ${eth_value:.2f}\")\n"
   ]
  },
  {
   "cell_type": "code",
   "execution_count": 12,
   "metadata": {},
   "outputs": [
    {
     "name": "stdout",
     "output_type": "stream",
     "text": [
      "The current value of your Cryptocurrency holdings is $85856.99\n"
     ]
    }
   ],
   "source": [
    "# Compute the total value of the cryptocurrency wallet\n",
    "# Add the value of the BTC holding to the value of the ETH holding\n",
    "total_crypto_wallet = eth_value + btc_value\n",
    "\n",
    "# Print current cryptocurrency wallet balance\n",
    "print(f\"The current value of your Cryptocurrency holdings is ${total_crypto_wallet:.2f}\")\n"
   ]
  },
  {
   "cell_type": "markdown",
   "metadata": {},
   "source": [
    "### Evaluate the Stock and Bond Holdings by Using the Alpaca SDK\n",
    "\n",
    "In this section, you’ll determine the current value of a member’s stock and bond holdings. You’ll make an API call to Alpaca via the Alpaca SDK to get the current closing prices of the SPDR S&P 500 ETF Trust (ticker: SPY) and of the iShares Core US Aggregate Bond ETF (ticker: AGG). For the prototype, assume that the member holds 110 shares of SPY, which represents the stock portion of their portfolio, and 200 shares of AGG, which represents the bond portion. To do all this, complete the following steps:\n",
    "\n",
    "1. In the `Starter_Code` folder, create an environment file (`.env`) to store the values of your Alpaca API key and Alpaca secret key.\n",
    "\n",
    "2. Set the variables for the Alpaca API and secret keys. Using the Alpaca SDK, create the Alpaca `tradeapi.REST` object. In this object, include the parameters for the Alpaca API key, the secret key, and the version number.\n",
    "\n",
    "3. Set the following parameters for the Alpaca API call:\n",
    "\n",
    "    - `tickers`: Use the tickers for the member’s stock and bond holdings.\n",
    "\n",
    "    - `timeframe`: Use a time frame of one day.\n",
    "\n",
    "    - `start_date` and `end_date`: Use the same date for these parameters, and format them with the date of the previous weekday (or `2020-08-07`). This is because you want the one closing price for the most-recent trading day.\n",
    "\n",
    "4. Get the current closing prices for `SPY` and `AGG` by using the Alpaca `get_barset` function. Format the response as a Pandas DataFrame by including the `df` property at the end of the `get_barset` function.\n",
    "\n",
    "5. Navigating the Alpaca response DataFrame, select the `SPY` and `AGG` closing prices, and store them as variables.\n",
    "\n",
    "6. Calculate the value, in US dollars, of the current amount of shares in each of the stock and bond portions of the portfolio, and print the results.\n"
   ]
  },
  {
   "cell_type": "markdown",
   "metadata": {},
   "source": [
    "#### Review the total number of shares held in both (SPY) and (AGG)."
   ]
  },
  {
   "cell_type": "code",
   "execution_count": 13,
   "metadata": {},
   "outputs": [],
   "source": [
    "# Current amount of shares held in both the stock (SPY) and bond (AGG) portion of the portfolio.\n",
    "spy_shares = 110\n",
    "agg_shares = 200\n"
   ]
  },
  {
   "cell_type": "markdown",
   "metadata": {},
   "source": [
    "#### Step 1: In the `Starter_Code` folder, create an environment file (`.env`) to store the values of your Alpaca API key and Alpaca secret key."
   ]
  },
  {
   "cell_type": "markdown",
   "metadata": {},
   "source": [
    "#### Step 2: Set the variables for the Alpaca API and secret keys. Using the Alpaca SDK, create the Alpaca `tradeapi.REST` object. In this object, include the parameters for the Alpaca API key, the secret key, and the version number."
   ]
  },
  {
   "cell_type": "code",
   "execution_count": 14,
   "metadata": {},
   "outputs": [],
   "source": [
    "# Set the variables for the Alpaca API and secret keys\n",
    "alpaca_api_key = os.getenv(\"ALPACA_API_KEY\")\n",
    "alpaca_secret_key = os.getenv(\"ALPACA_SECRET_KEY\")\n",
    "\n",
    "# Create the Alpaca tradeapi.REST object\n",
    "alpaca = tradeapi.REST(\n",
    "    alpaca_api_key,\n",
    "    alpaca_secret_key,\n",
    "    api_version=\"v2\")\n"
   ]
  },
  {
   "cell_type": "markdown",
   "metadata": {},
   "source": [
    "#### Step 3: Set the following parameters for the Alpaca API call:\n",
    "\n",
    "- `tickers`: Use the tickers for the member’s stock and bond holdings.\n",
    "\n",
    "- `timeframe`: Use a time frame of one day.\n",
    "\n",
    "- `start_date` and `end_date`: Use the same date for these parameters, and format them with the date of the previous weekday (or `2020-08-07`). This is because you want the one closing price for the most-recent trading day.\n"
   ]
  },
  {
   "cell_type": "code",
   "execution_count": 15,
   "metadata": {},
   "outputs": [],
   "source": [
    "# Set the tickers for both the bond and stock portion of the portfolio\n",
    "tickers = ['SPY', 'AGG']\n",
    "\n",
    "# Set timeframe to 1D \n",
    "timeframe = \"1D\"\n",
    "\n",
    "# Format current date as ISO format\n",
    "# Set both the start and end date at the date of your prior weekday \n",
    "# This will give you the closing price of the previous trading day\n",
    "# Alternatively you can use a start and end date of 2020-08-07\n",
    "start_date = pd.Timestamp(\"2021-04-30\", tz=\"America/New_York\").isoformat()\n",
    "end_date = pd.Timestamp(\"2021-04-30\", tz=\"America/New_York\").isoformat()\n"
   ]
  },
  {
   "cell_type": "markdown",
   "metadata": {},
   "source": [
    "#### Step 4: Get the current closing prices for `SPY` and `AGG` by using the Alpaca `get_barset` function. Format the response as a Pandas DataFrame by including the `df` property at the end of the `get_barset` function."
   ]
  },
  {
   "cell_type": "code",
   "execution_count": 16,
   "metadata": {},
   "outputs": [
    {
     "data": {
      "text/html": [
       "<div>\n",
       "<style scoped>\n",
       "    .dataframe tbody tr th:only-of-type {\n",
       "        vertical-align: middle;\n",
       "    }\n",
       "\n",
       "    .dataframe tbody tr th {\n",
       "        vertical-align: top;\n",
       "    }\n",
       "\n",
       "    .dataframe thead tr th {\n",
       "        text-align: left;\n",
       "    }\n",
       "\n",
       "    .dataframe thead tr:last-of-type th {\n",
       "        text-align: right;\n",
       "    }\n",
       "</style>\n",
       "<table border=\"1\" class=\"dataframe\">\n",
       "  <thead>\n",
       "    <tr>\n",
       "      <th></th>\n",
       "      <th colspan=\"5\" halign=\"left\">AGG</th>\n",
       "      <th colspan=\"5\" halign=\"left\">SPY</th>\n",
       "    </tr>\n",
       "    <tr>\n",
       "      <th></th>\n",
       "      <th>open</th>\n",
       "      <th>high</th>\n",
       "      <th>low</th>\n",
       "      <th>close</th>\n",
       "      <th>volume</th>\n",
       "      <th>open</th>\n",
       "      <th>high</th>\n",
       "      <th>low</th>\n",
       "      <th>close</th>\n",
       "      <th>volume</th>\n",
       "    </tr>\n",
       "    <tr>\n",
       "      <th>time</th>\n",
       "      <th></th>\n",
       "      <th></th>\n",
       "      <th></th>\n",
       "      <th></th>\n",
       "      <th></th>\n",
       "      <th></th>\n",
       "      <th></th>\n",
       "      <th></th>\n",
       "      <th></th>\n",
       "      <th></th>\n",
       "    </tr>\n",
       "  </thead>\n",
       "  <tbody>\n",
       "    <tr>\n",
       "      <th>2021-04-30 00:00:00-04:00</th>\n",
       "      <td>114.41</td>\n",
       "      <td>114.515</td>\n",
       "      <td>114.33</td>\n",
       "      <td>114.5</td>\n",
       "      <td>5160765</td>\n",
       "      <td>417.63</td>\n",
       "      <td>418.54</td>\n",
       "      <td>416.34</td>\n",
       "      <td>417.3</td>\n",
       "      <td>73129109</td>\n",
       "    </tr>\n",
       "  </tbody>\n",
       "</table>\n",
       "</div>"
      ],
      "text/plain": [
       "                              AGG                                      SPY  \\\n",
       "                             open     high     low  close   volume    open   \n",
       "time                                                                         \n",
       "2021-04-30 00:00:00-04:00  114.41  114.515  114.33  114.5  5160765  417.63   \n",
       "\n",
       "                                                            \n",
       "                             high     low  close    volume  \n",
       "time                                                        \n",
       "2021-04-30 00:00:00-04:00  418.54  416.34  417.3  73129109  "
      ]
     },
     "execution_count": 16,
     "metadata": {},
     "output_type": "execute_result"
    }
   ],
   "source": [
    "# Use the Alpaca get_barset function to get current closing prices the portfolio\n",
    "# Be sure to set the `df` property after the function to format the response object as a DataFrame\n",
    "prices_df = alpaca.get_barset(\n",
    "    tickers,\n",
    "    timeframe,\n",
    "    start=start_date,\n",
    "    end=end_date,\n",
    ").df\n",
    "\n",
    "# Review the first 5 rows of the Alpaca DataFrame\n",
    "# YOUR CODE HERE\n",
    "prices_df.head()"
   ]
  },
  {
   "cell_type": "markdown",
   "metadata": {},
   "source": [
    "#### Step 5: Navigating the Alpaca response DataFrame, select the `SPY` and `AGG` closing prices, and store them as variables."
   ]
  },
  {
   "cell_type": "code",
   "execution_count": 17,
   "metadata": {},
   "outputs": [
    {
     "name": "stdout",
     "output_type": "stream",
     "text": [
      "114.5\n"
     ]
    }
   ],
   "source": [
    "# Access the closing price for AGG from the Alpaca DataFrame\n",
    "# Converting the value to a floating point number\n",
    "agg_close_price = float(prices_df[\"AGG\"][\"close\"])\n",
    "\n",
    "# Print the AGG closing price\n",
    "print(agg_close_price)\n"
   ]
  },
  {
   "cell_type": "code",
   "execution_count": 18,
   "metadata": {},
   "outputs": [
    {
     "name": "stdout",
     "output_type": "stream",
     "text": [
      "417.3\n"
     ]
    }
   ],
   "source": [
    "# Access the closing price for SPY from the Alpaca DataFrame\n",
    "# Converting the value to a floating point number\n",
    "spy_close_price = float(prices_df[\"SPY\"][\"close\"])\n",
    "\n",
    "# Print the SPY closing price\n",
    "print(spy_close_price)"
   ]
  },
  {
   "cell_type": "markdown",
   "metadata": {},
   "source": [
    "#### Step 6: Calculate the value, in US dollars, of the current amount of shares in each of the stock and bond portions of the portfolio, and print the results."
   ]
  },
  {
   "cell_type": "code",
   "execution_count": 19,
   "metadata": {},
   "outputs": [
    {
     "name": "stdout",
     "output_type": "stream",
     "text": [
      "The current value of your bond portfolio is $22900.00\n"
     ]
    }
   ],
   "source": [
    "# Calculate the current value of the bond portion of the portfolio\n",
    "agg_value = agg_close_price * agg_shares\n",
    "\n",
    "# Print the current value of the bond portfolio\n",
    "print(f\"The current value of your bond portfolio is ${agg_value:.2f}\")\n"
   ]
  },
  {
   "cell_type": "code",
   "execution_count": 20,
   "metadata": {},
   "outputs": [
    {
     "name": "stdout",
     "output_type": "stream",
     "text": [
      "The current value of your stock portfolio is $45903.00\n"
     ]
    }
   ],
   "source": [
    "# Calculate the current value of the stock portion of the portfolio\n",
    "spy_value = spy_close_price * spy_shares\n",
    "\n",
    "# Print the current value of the stock portfolio\n",
    "print(f\"The current value of your stock portfolio is ${spy_value:.2f}\")\n"
   ]
  },
  {
   "cell_type": "code",
   "execution_count": 21,
   "metadata": {},
   "outputs": [
    {
     "name": "stdout",
     "output_type": "stream",
     "text": [
      "The current value of your stock and bond portfolio is $68803.00\n"
     ]
    }
   ],
   "source": [
    "# Calculate the total value of the stock and bond portion of the portfolio\n",
    "total_stocks_bonds = spy_value + agg_value\n",
    "\n",
    "# Print the current balance of the stock and bond portion of the portfolio\n",
    "print(f\"The current value of your stock and bond portfolio is ${total_stocks_bonds:.2f}\")"
   ]
  },
  {
   "cell_type": "code",
   "execution_count": 22,
   "metadata": {},
   "outputs": [
    {
     "name": "stdout",
     "output_type": "stream",
     "text": [
      "The current value of your entire savings portfolio is $154659.99\n"
     ]
    }
   ],
   "source": [
    "# Calculate the total value of the member's entire savings portfolio\n",
    "# Add the value of the cryptocurrency walled to the value of the total stocks and bonds\n",
    "total_portfolio = total_crypto_wallet + total_stocks_bonds\n",
    "\n",
    "# Print current cryptocurrency wallet balance\n",
    "print(f\"The current value of your entire savings portfolio is ${total_portfolio:.2f}\")\n"
   ]
  },
  {
   "cell_type": "markdown",
   "metadata": {},
   "source": [
    "### Evaluate the Emergency Fund\n",
    "\n",
    "In this section, you’ll use the valuations for the cryptocurrency wallet and for the stock and bond portions of the portfolio to determine if the credit union member has enough savings to build an emergency fund into their financial plan. To do this, complete the following steps:\n",
    "\n",
    "1. Create a Python list named `savings_data` that has two elements. The first element contains the total value of the cryptocurrency wallet. The second element contains the total value of the stock and bond portions of the portfolio.\n",
    "\n",
    "2. Use the `savings_data` list to create a Pandas DataFrame named `savings_df`, and then display this DataFrame. The function to create the DataFrame should take the following three parameters:\n",
    "\n",
    "    - `savings_data`: Use the list that you just created.\n",
    "\n",
    "    - `columns`: Set this parameter equal to a Python list with a single value called `amount`.\n",
    "\n",
    "    - `index`: Set this parameter equal to a Python list with the values of `crypto` and `stock/bond`.\n",
    "\n",
    "3. Use the `savings_df` DataFrame to plot a pie chart that visualizes the composition of the member’s portfolio. The y-axis of the pie chart uses `amount`. Be sure to add a title.\n",
    "\n",
    "4. Using Python, determine if the current portfolio has enough to create an emergency fund as part of the member’s financial plan. Ideally, an emergency fund should equal to three times the member’s monthly income. To do this, implement the following steps:\n",
    "\n",
    "    1. Create a variable named `emergency_fund_value`, and set it equal to three times the value of the member’s `monthly_income` of $12000. (You set this earlier in Part 1).\n",
    "\n",
    "    2. Create a series of three if statements to determine if the member’s total portfolio is large enough to fund the emergency portfolio:\n",
    "\n",
    "        1. If the total portfolio value is greater than the emergency fund value, display a message congratulating the member for having enough money in this fund.\n",
    "\n",
    "        2. Else if the total portfolio value is equal to the emergency fund value, display a message congratulating the member on reaching this important financial goal.\n",
    "\n",
    "        3. Else the total portfolio is less than the emergency fund value, so display a message showing how many dollars away the member is from reaching the goal. (Subtract the total portfolio value from the emergency fund value.)\n"
   ]
  },
  {
   "cell_type": "markdown",
   "metadata": {},
   "source": [
    "#### Step 1: Create a Python list named `savings_data` that has two elements. The first element contains the total value of the cryptocurrency wallet. The second element contains the total value of the stock and bond portions of the portfolio."
   ]
  },
  {
   "cell_type": "code",
   "execution_count": 23,
   "metadata": {},
   "outputs": [
    {
     "name": "stdout",
     "output_type": "stream",
     "text": [
      "[85856.993, 68803.0]\n"
     ]
    }
   ],
   "source": [
    "# Consolidate financial assets data into a Python list\n",
    "savings_data = [total_crypto_wallet, total_stocks_bonds]\n",
    "\n",
    "# Review the Python list savings_data\n",
    "print(savings_data)\n",
    "    "
   ]
  },
  {
   "cell_type": "markdown",
   "metadata": {},
   "source": [
    "#### Step 2: Use the `savings_data` list to create a Pandas DataFrame named `savings_df`, and then display this DataFrame. The function to create the DataFrame should take the following three parameters:\n",
    "\n",
    "- `savings_data`: Use the list that you just created.\n",
    "\n",
    "- `columns`: Set this parameter equal to a Python list with a single value called `amount`.\n",
    "\n",
    "- `index`: Set this parameter equal to a Python list with the values of `crypto` and `stock/bond`.\n"
   ]
  },
  {
   "cell_type": "code",
   "execution_count": 24,
   "metadata": {},
   "outputs": [
    {
     "data": {
      "text/html": [
       "<div>\n",
       "<style scoped>\n",
       "    .dataframe tbody tr th:only-of-type {\n",
       "        vertical-align: middle;\n",
       "    }\n",
       "\n",
       "    .dataframe tbody tr th {\n",
       "        vertical-align: top;\n",
       "    }\n",
       "\n",
       "    .dataframe thead th {\n",
       "        text-align: right;\n",
       "    }\n",
       "</style>\n",
       "<table border=\"1\" class=\"dataframe\">\n",
       "  <thead>\n",
       "    <tr style=\"text-align: right;\">\n",
       "      <th></th>\n",
       "      <th>amount</th>\n",
       "    </tr>\n",
       "  </thead>\n",
       "  <tbody>\n",
       "    <tr>\n",
       "      <th>crypto</th>\n",
       "      <td>85856.993</td>\n",
       "    </tr>\n",
       "    <tr>\n",
       "      <th>stock/bond</th>\n",
       "      <td>68803.000</td>\n",
       "    </tr>\n",
       "  </tbody>\n",
       "</table>\n",
       "</div>"
      ],
      "text/plain": [
       "               amount\n",
       "crypto      85856.993\n",
       "stock/bond  68803.000"
      ]
     },
     "execution_count": 24,
     "metadata": {},
     "output_type": "execute_result"
    }
   ],
   "source": [
    "# Create a Pandas DataFrame called savings_df \n",
    "savings_df = pd.DataFrame(\n",
    "    savings_data,\n",
    "    columns=[\"amount\"],\n",
    "    index=[\"crypto\", \"stock/bond\"]\n",
    "    )\n",
    "\n",
    "# Display the savings_df DataFrame\n",
    "savings_df\n"
   ]
  },
  {
   "cell_type": "markdown",
   "metadata": {},
   "source": [
    "#### Step 3: Use the `savings_df` DataFrame to plot a pie chart that visualizes the composition of the member’s portfolio. The y-axis of the pie chart uses `amount`. Be sure to add a title."
   ]
  },
  {
   "cell_type": "code",
   "execution_count": 25,
   "metadata": {},
   "outputs": [
    {
     "data": {
      "text/plain": [
       "<AxesSubplot:title={'center':'Portfolio Composition - Crypto v. Stock/Bond'}, ylabel='amount'>"
      ]
     },
     "execution_count": 25,
     "metadata": {},
     "output_type": "execute_result"
    },
    {
     "data": {
      "image/png": "[encoded data removed]",
      "text/plain": [
       "<Figure size 432x288 with 1 Axes>"
      ]
     },
     "metadata": {},
     "output_type": "display_data"
    }
   ],
   "source": [
    "# Plot the total value of the member's portfolio (crypto and stock/bond) in a pie chart\n",
    "savings_df.plot.pie(y='amount', title='Portfolio Composition - Crypto v. Stock/Bond')\n"
   ]
  },
  {
   "cell_type": "markdown",
   "metadata": {},
   "source": [
    "#### Step 4: Using Python, determine if the current portfolio has enough to create an emergency fund as part of the member’s financial plan. Ideally, an emergency fund should equal to three times the member’s monthly income. To do this, implement the following steps:\n",
    "\n",
    "Step 1. Create a variable named `emergency_fund_value`, and set it equal to three times the value of the member’s `monthly_income` of 12000. (You set this earlier in Part 1).\n",
    "\n",
    "Step 2. Create a series of three if statements to determine if the member’s total portfolio is large enough to fund the emergency portfolio:\n",
    "\n",
    "* If the total portfolio value is greater than the emergency fund value, display a message congratulating the member for having enough money in this fund.\n",
    "\n",
    "* Else if the total portfolio value is equal to the emergency fund value, display a message congratulating the member on reaching this important financial goal.\n",
    "\n",
    "* Else the total portfolio is less than the emergency fund value, so display a message showing how many dollars away the member is from reaching the goal. (Subtract the total portfolio value from the emergency fund value.)\n"
   ]
  },
  {
   "cell_type": "markdown",
   "metadata": {},
   "source": [
    "##### Step 4-1: Create a variable named `emergency_fund_value`, and set it equal to three times the value of the member’s `monthly_income` of 12000. (You set this earlier in Part 1)."
   ]
  },
  {
   "cell_type": "code",
   "execution_count": 26,
   "metadata": {},
   "outputs": [],
   "source": [
    "# Create a variable named emergency_fund_value\n",
    "emergency_fund_value = monthly_income * 3\n"
   ]
  },
  {
   "cell_type": "markdown",
   "metadata": {},
   "source": [
    "##### Step 4-2: Create a series of three if statements to determine if the member’s total portfolio is large enough to fund the emergency portfolio:\n",
    "\n",
    "* If the total portfolio value is greater than the emergency fund value, display a message congratulating the member for having enough money in this fund.\n",
    "\n",
    "* Else if the total portfolio value is equal to the emergency fund value, display a message congratulating the member on reaching this important financial goal.\n",
    "\n",
    "* Else the total portfolio is less than the emergency fund value, so display a message showing how many dollars away the member is from reaching the goal. (Subtract the total portfolio value from the emergency fund value.)"
   ]
  },
  {
   "cell_type": "code",
   "execution_count": 27,
   "metadata": {},
   "outputs": [
    {
     "name": "stdout",
     "output_type": "stream",
     "text": [
      "Congratulations! You have enough money in your emergency fund!\n"
     ]
    }
   ],
   "source": [
    "# Evaluate the possibility of creating an emergency fund with 3 conditions:\n",
    "if total_portfolio>emergency_fund_value:\n",
    "    print(f\"Congratulations! You have enough money in your emergency fund!\")\n",
    "elif total_portfolio==emergency_fund_value:\n",
    "    print(f\"Congratulations! You have met your emergency fund goal!\")\n",
    "elif total_portfolio<emergency_fund_value:\n",
    "    print(f\"You are ${emergency_fund_value - total_portfolio} away from reaching your emergency fund goal.\")\n"
   ]
  },
  {
   "cell_type": "markdown",
   "metadata": {},
   "source": [
    "## Part 2: Create a Financial Planner for Retirement"
   ]
  },
  {
   "cell_type": "markdown",
   "metadata": {},
   "source": [
    "### Create the Monte Carlo Simulation\n",
    "\n",
    "In this section, you’ll use the MCForecastTools library to create a Monte Carlo simulation for the member’s savings portfolio. To do this, complete the following steps:\n",
    "\n",
    "1. Make an API call via the Alpaca SDK to get 10 years of historical closing prices for a traditional 60/40 portfolio split: 60% stocks (SPY) and 40% bonds (AGG).\n",
    "\n",
    "2. Run a Monte Carlo simulation of 500 samples and 30 years for the 60/40 portfolio, and then plot the results.The following image shows the overlay line plot resulting from a simulation with these characteristics. However, because a random number generator is used to run each live Monte Carlo simulation, your image will differ slightly from this exact image:\n",
    "\n",
    "![A screenshot depicts the resulting plot.](Images/5-4-monte-carlo-line-plot.png)\n",
    "\n",
    "3. Plot the probability distribution of the Monte Carlo simulation. Plot the probability distribution of the Monte Carlo simulation. The following image shows the histogram plot resulting from a simulation with these characteristics. However, because a random number generator is used to run each live Monte Carlo simulation, your image will differ slightly from this exact image:\n",
    "\n",
    "![A screenshot depicts the histogram plot.](Images/5-4-monte-carlo-histogram.png)\n",
    "\n",
    "4. Generate the summary statistics for the Monte Carlo simulation.\n",
    "\n"
   ]
  },
  {
   "cell_type": "markdown",
   "metadata": {},
   "source": [
    "#### Step 1: Make an API call via the Alpaca SDK to get 10 years of historical closing prices for a traditional 60/40 portfolio split: 60% stocks (SPY) and 40% bonds (AGG)."
   ]
  },
  {
   "cell_type": "code",
   "execution_count": 28,
   "metadata": {},
   "outputs": [],
   "source": [
    "# Set start and end dates of 10 years back from your current date\n",
    "# Alternatively, you can use an end date of 2020-08-07 and work 10 years back from that date \n",
    "start_date_1 = pd.Timestamp(\"2011-04-30\", tz=\"America/New_York\").isoformat()\n",
    "end_date_1 = pd.Timestamp(\"2013-04-30\", tz=\"America/New_York\").isoformat()"
   ]
  },
  {
   "cell_type": "code",
   "execution_count": 29,
   "metadata": {},
   "outputs": [],
   "source": [
    "start_date_2 = pd.Timestamp(\"2013-04-30\", tz=\"America/New_York\").isoformat()\n",
    "end_date_2 = pd.Timestamp(\"2015-04-30\", tz=\"America/New_York\").isoformat()"
   ]
  },
  {
   "cell_type": "code",
   "execution_count": 30,
   "metadata": {},
   "outputs": [],
   "source": [
    "start_date_3 = pd.Timestamp(\"2015-04-30\", tz=\"America/New_York\").isoformat()\n",
    "end_date_3 = pd.Timestamp(\"2017-04-30\", tz=\"America/New_York\").isoformat()"
   ]
  },
  {
   "cell_type": "code",
   "execution_count": 31,
   "metadata": {},
   "outputs": [],
   "source": [
    "start_date_4 = pd.Timestamp(\"2017-04-30\", tz=\"America/New_York\").isoformat()\n",
    "end_date_4 = pd.Timestamp(\"2019-04-30\", tz=\"America/New_York\").isoformat()"
   ]
  },
  {
   "cell_type": "code",
   "execution_count": 32,
   "metadata": {},
   "outputs": [],
   "source": [
    "start_date_5 = pd.Timestamp(\"2019-04-30\", tz=\"America/New_York\").isoformat()\n",
    "end_date_5 = pd.Timestamp(\"2021-04-30\", tz=\"America/New_York\").isoformat()"
   ]
  },
  {
   "cell_type": "code",
   "execution_count": 33,
   "metadata": {},
   "outputs": [],
   "source": [
    "alpaca_prices_1_df = alpaca.get_barset(\n",
    "    tickers,\n",
    "    timeframe,\n",
    "    start=start_date_1,\n",
    "    end=end_date_1,\n",
    "    limit=1000\n",
    ").df"
   ]
  },
  {
   "cell_type": "code",
   "execution_count": 34,
   "metadata": {},
   "outputs": [],
   "source": [
    "alpaca_prices_2_df = alpaca.get_barset(\n",
    "    tickers,\n",
    "    timeframe,\n",
    "    start=start_date_2,\n",
    "    end=end_date_2,\n",
    "    limit=1000\n",
    ").df"
   ]
  },
  {
   "cell_type": "code",
   "execution_count": 35,
   "metadata": {},
   "outputs": [],
   "source": [
    "alpaca_prices_3_df = alpaca.get_barset(\n",
    "    tickers,\n",
    "    timeframe,\n",
    "    start=start_date_3,\n",
    "    end=end_date_3,\n",
    "    limit=1000\n",
    ").df"
   ]
  },
  {
   "cell_type": "code",
   "execution_count": 36,
   "metadata": {},
   "outputs": [],
   "source": [
    "alpaca_prices_4_df = alpaca.get_barset(\n",
    "    tickers,\n",
    "    timeframe,\n",
    "    start=start_date_4,\n",
    "    end=end_date_4,\n",
    "    limit=1000\n",
    ").df"
   ]
  },
  {
   "cell_type": "code",
   "execution_count": 38,
   "metadata": {},
   "outputs": [],
   "source": [
    "alpaca_prices_5_df = alpaca.get_barset(\n",
    "    tickers,\n",
    "    timeframe,\n",
    "    start=start_date_5,\n",
    "    end=end_date_5,\n",
    "    limit=1000\n",
    ").df"
   ]
  },
  {
   "cell_type": "code",
   "execution_count": 39,
   "metadata": {},
   "outputs": [
    {
     "data": {
      "text/html": [
       "<div>\n",
       "<style scoped>\n",
       "    .dataframe tbody tr th:only-of-type {\n",
       "        vertical-align: middle;\n",
       "    }\n",
       "\n",
       "    .dataframe tbody tr th {\n",
       "        vertical-align: top;\n",
       "    }\n",
       "\n",
       "    .dataframe thead tr th {\n",
       "        text-align: left;\n",
       "    }\n",
       "\n",
       "    .dataframe thead tr:last-of-type th {\n",
       "        text-align: right;\n",
       "    }\n",
       "</style>\n",
       "<table border=\"1\" class=\"dataframe\">\n",
       "  <thead>\n",
       "    <tr>\n",
       "      <th></th>\n",
       "      <th colspan=\"5\" halign=\"left\">AGG</th>\n",
       "      <th colspan=\"5\" halign=\"left\">SPY</th>\n",
       "    </tr>\n",
       "    <tr>\n",
       "      <th></th>\n",
       "      <th>open</th>\n",
       "      <th>high</th>\n",
       "      <th>low</th>\n",
       "      <th>close</th>\n",
       "      <th>volume</th>\n",
       "      <th>open</th>\n",
       "      <th>high</th>\n",
       "      <th>low</th>\n",
       "      <th>close</th>\n",
       "      <th>volume</th>\n",
       "    </tr>\n",
       "    <tr>\n",
       "      <th>time</th>\n",
       "      <th></th>\n",
       "      <th></th>\n",
       "      <th></th>\n",
       "      <th></th>\n",
       "      <th></th>\n",
       "      <th></th>\n",
       "      <th></th>\n",
       "      <th></th>\n",
       "      <th></th>\n",
       "      <th></th>\n",
       "    </tr>\n",
       "  </thead>\n",
       "  <tbody>\n",
       "    <tr>\n",
       "      <th>2011-05-02 00:00:00-04:00</th>\n",
       "      <td>106.21</td>\n",
       "      <td>106.2400</td>\n",
       "      <td>106.04</td>\n",
       "      <td>106.19</td>\n",
       "      <td>553216.0</td>\n",
       "      <td>137.07</td>\n",
       "      <td>137.18</td>\n",
       "      <td>135.950</td>\n",
       "      <td>136.23</td>\n",
       "      <td>112873467</td>\n",
       "    </tr>\n",
       "    <tr>\n",
       "      <th>2011-05-03 00:00:00-04:00</th>\n",
       "      <td>106.26</td>\n",
       "      <td>106.3400</td>\n",
       "      <td>106.15</td>\n",
       "      <td>106.23</td>\n",
       "      <td>471087.0</td>\n",
       "      <td>135.96</td>\n",
       "      <td>136.19</td>\n",
       "      <td>135.045</td>\n",
       "      <td>135.72</td>\n",
       "      <td>120587313</td>\n",
       "    </tr>\n",
       "    <tr>\n",
       "      <th>2011-05-04 00:00:00-04:00</th>\n",
       "      <td>106.23</td>\n",
       "      <td>106.4400</td>\n",
       "      <td>106.22</td>\n",
       "      <td>106.44</td>\n",
       "      <td>559439.0</td>\n",
       "      <td>135.68</td>\n",
       "      <td>135.73</td>\n",
       "      <td>134.230</td>\n",
       "      <td>134.84</td>\n",
       "      <td>159738689</td>\n",
       "    </tr>\n",
       "    <tr>\n",
       "      <th>2011-05-05 00:00:00-04:00</th>\n",
       "      <td>106.47</td>\n",
       "      <td>106.7162</td>\n",
       "      <td>106.47</td>\n",
       "      <td>106.68</td>\n",
       "      <td>758341.0</td>\n",
       "      <td>134.08</td>\n",
       "      <td>134.95</td>\n",
       "      <td>133.020</td>\n",
       "      <td>133.64</td>\n",
       "      <td>184291407</td>\n",
       "    </tr>\n",
       "    <tr>\n",
       "      <th>2011-05-06 00:00:00-04:00</th>\n",
       "      <td>106.56</td>\n",
       "      <td>106.8300</td>\n",
       "      <td>106.43</td>\n",
       "      <td>106.66</td>\n",
       "      <td>981926.0</td>\n",
       "      <td>134.93</td>\n",
       "      <td>135.63</td>\n",
       "      <td>133.220</td>\n",
       "      <td>134.17</td>\n",
       "      <td>187381641</td>\n",
       "    </tr>\n",
       "  </tbody>\n",
       "</table>\n",
       "</div>"
      ],
      "text/plain": [
       "                              AGG                                         SPY  \\\n",
       "                             open      high     low   close    volume    open   \n",
       "time                                                                            \n",
       "2011-05-02 00:00:00-04:00  106.21  106.2400  106.04  106.19  553216.0  137.07   \n",
       "2011-05-03 00:00:00-04:00  106.26  106.3400  106.15  106.23  471087.0  135.96   \n",
       "2011-05-04 00:00:00-04:00  106.23  106.4400  106.22  106.44  559439.0  135.68   \n",
       "2011-05-05 00:00:00-04:00  106.47  106.7162  106.47  106.68  758341.0  134.08   \n",
       "2011-05-06 00:00:00-04:00  106.56  106.8300  106.43  106.66  981926.0  134.93   \n",
       "\n",
       "                                                               \n",
       "                             high      low   close     volume  \n",
       "time                                                           \n",
       "2011-05-02 00:00:00-04:00  137.18  135.950  136.23  112873467  \n",
       "2011-05-03 00:00:00-04:00  136.19  135.045  135.72  120587313  \n",
       "2011-05-04 00:00:00-04:00  135.73  134.230  134.84  159738689  \n",
       "2011-05-05 00:00:00-04:00  134.95  133.020  133.64  184291407  \n",
       "2011-05-06 00:00:00-04:00  135.63  133.220  134.17  187381641  "
      ]
     },
     "metadata": {},
     "output_type": "display_data"
    },
    {
     "data": {
      "text/html": [
       "<div>\n",
       "<style scoped>\n",
       "    .dataframe tbody tr th:only-of-type {\n",
       "        vertical-align: middle;\n",
       "    }\n",
       "\n",
       "    .dataframe tbody tr th {\n",
       "        vertical-align: top;\n",
       "    }\n",
       "\n",
       "    .dataframe thead tr th {\n",
       "        text-align: left;\n",
       "    }\n",
       "\n",
       "    .dataframe thead tr:last-of-type th {\n",
       "        text-align: right;\n",
       "    }\n",
       "</style>\n",
       "<table border=\"1\" class=\"dataframe\">\n",
       "  <thead>\n",
       "    <tr>\n",
       "      <th></th>\n",
       "      <th colspan=\"5\" halign=\"left\">AGG</th>\n",
       "      <th colspan=\"5\" halign=\"left\">SPY</th>\n",
       "    </tr>\n",
       "    <tr>\n",
       "      <th></th>\n",
       "      <th>open</th>\n",
       "      <th>high</th>\n",
       "      <th>low</th>\n",
       "      <th>close</th>\n",
       "      <th>volume</th>\n",
       "      <th>open</th>\n",
       "      <th>high</th>\n",
       "      <th>low</th>\n",
       "      <th>close</th>\n",
       "      <th>volume</th>\n",
       "    </tr>\n",
       "    <tr>\n",
       "      <th>time</th>\n",
       "      <th></th>\n",
       "      <th></th>\n",
       "      <th></th>\n",
       "      <th></th>\n",
       "      <th></th>\n",
       "      <th></th>\n",
       "      <th></th>\n",
       "      <th></th>\n",
       "      <th></th>\n",
       "      <th></th>\n",
       "    </tr>\n",
       "  </thead>\n",
       "  <tbody>\n",
       "    <tr>\n",
       "      <th>2021-04-26 00:00:00-04:00</th>\n",
       "      <td>114.74</td>\n",
       "      <td>114.8015</td>\n",
       "      <td>114.65</td>\n",
       "      <td>114.65</td>\n",
       "      <td>2867784.0</td>\n",
       "      <td>417.44</td>\n",
       "      <td>418.22</td>\n",
       "      <td>416.8111</td>\n",
       "      <td>417.64</td>\n",
       "      <td>44689009</td>\n",
       "    </tr>\n",
       "    <tr>\n",
       "      <th>2021-04-27 00:00:00-04:00</th>\n",
       "      <td>115.13</td>\n",
       "      <td>115.1300</td>\n",
       "      <td>114.37</td>\n",
       "      <td>114.37</td>\n",
       "      <td>3421667.0</td>\n",
       "      <td>417.91</td>\n",
       "      <td>418.14</td>\n",
       "      <td>416.3000</td>\n",
       "      <td>417.48</td>\n",
       "      <td>45962264</td>\n",
       "    </tr>\n",
       "    <tr>\n",
       "      <th>2021-04-28 00:00:00-04:00</th>\n",
       "      <td>114.45</td>\n",
       "      <td>114.4685</td>\n",
       "      <td>114.20</td>\n",
       "      <td>114.44</td>\n",
       "      <td>6185936.0</td>\n",
       "      <td>417.81</td>\n",
       "      <td>419.01</td>\n",
       "      <td>416.9000</td>\n",
       "      <td>417.35</td>\n",
       "      <td>45533863</td>\n",
       "    </tr>\n",
       "    <tr>\n",
       "      <th>2021-04-29 00:00:00-04:00</th>\n",
       "      <td>114.14</td>\n",
       "      <td>114.3700</td>\n",
       "      <td>114.09</td>\n",
       "      <td>114.37</td>\n",
       "      <td>5796983.0</td>\n",
       "      <td>420.33</td>\n",
       "      <td>420.72</td>\n",
       "      <td>416.4400</td>\n",
       "      <td>419.99</td>\n",
       "      <td>70607144</td>\n",
       "    </tr>\n",
       "    <tr>\n",
       "      <th>2021-04-30 00:00:00-04:00</th>\n",
       "      <td>114.41</td>\n",
       "      <td>114.5150</td>\n",
       "      <td>114.33</td>\n",
       "      <td>114.50</td>\n",
       "      <td>5160765.0</td>\n",
       "      <td>417.63</td>\n",
       "      <td>418.54</td>\n",
       "      <td>416.3400</td>\n",
       "      <td>417.30</td>\n",
       "      <td>73129109</td>\n",
       "    </tr>\n",
       "  </tbody>\n",
       "</table>\n",
       "</div>"
      ],
      "text/plain": [
       "                              AGG                                       \\\n",
       "                             open      high     low   close     volume   \n",
       "time                                                                     \n",
       "2021-04-26 00:00:00-04:00  114.74  114.8015  114.65  114.65  2867784.0   \n",
       "2021-04-27 00:00:00-04:00  115.13  115.1300  114.37  114.37  3421667.0   \n",
       "2021-04-28 00:00:00-04:00  114.45  114.4685  114.20  114.44  6185936.0   \n",
       "2021-04-29 00:00:00-04:00  114.14  114.3700  114.09  114.37  5796983.0   \n",
       "2021-04-30 00:00:00-04:00  114.41  114.5150  114.33  114.50  5160765.0   \n",
       "\n",
       "                              SPY                                      \n",
       "                             open    high       low   close    volume  \n",
       "time                                                                   \n",
       "2021-04-26 00:00:00-04:00  417.44  418.22  416.8111  417.64  44689009  \n",
       "2021-04-27 00:00:00-04:00  417.91  418.14  416.3000  417.48  45962264  \n",
       "2021-04-28 00:00:00-04:00  417.81  419.01  416.9000  417.35  45533863  \n",
       "2021-04-29 00:00:00-04:00  420.33  420.72  416.4400  419.99  70607144  \n",
       "2021-04-30 00:00:00-04:00  417.63  418.54  416.3400  417.30  73129109  "
      ]
     },
     "metadata": {},
     "output_type": "display_data"
    }
   ],
   "source": [
    "# Use the Alpaca get_barset function to make the API call to get the 10 years worth of pricing data\n",
    "# The tickers and timeframe parameters should have been set in Part 1 of this activity \n",
    "# The start and end dates should be updated with the information set above\n",
    "# Remember to add the df property to the end of the call so the response is returned as a DataFrame\n",
    "alpaca_prices_df = pd.concat(\n",
    "    [alpaca_prices_1_df, \n",
    "     alpaca_prices_2_df, \n",
    "     alpaca_prices_3_df, \n",
    "     alpaca_prices_4_df, \n",
    "     alpaca_prices_5_df])\n",
    "\n",
    "\n",
    "# Display both the first and last five rows of the DataFrame\n",
    "display(alpaca_prices_df.head())\n",
    "display(alpaca_prices_df.tail())"
   ]
  },
  {
   "cell_type": "code",
   "execution_count": 40,
   "metadata": {},
   "outputs": [
    {
     "data": {
      "text/plain": [
       "(2520, 10)"
      ]
     },
     "execution_count": 40,
     "metadata": {},
     "output_type": "execute_result"
    }
   ],
   "source": [
    "alpaca_prices_df.shape"
   ]
  },
  {
   "cell_type": "markdown",
   "metadata": {},
   "source": [
    "#### Step 2: Run a Monte Carlo simulation of 500 samples and 30 years for the 60/40 portfolio, and then plot the results."
   ]
  },
  {
   "cell_type": "code",
   "execution_count": 42,
   "metadata": {},
   "outputs": [
    {
     "data": {
      "text/html": [
       "<div>\n",
       "<style scoped>\n",
       "    .dataframe tbody tr th:only-of-type {\n",
       "        vertical-align: middle;\n",
       "    }\n",
       "\n",
       "    .dataframe tbody tr th {\n",
       "        vertical-align: top;\n",
       "    }\n",
       "\n",
       "    .dataframe thead tr th {\n",
       "        text-align: left;\n",
       "    }\n",
       "\n",
       "    .dataframe thead tr:last-of-type th {\n",
       "        text-align: right;\n",
       "    }\n",
       "</style>\n",
       "<table border=\"1\" class=\"dataframe\">\n",
       "  <thead>\n",
       "    <tr>\n",
       "      <th></th>\n",
       "      <th colspan=\"6\" halign=\"left\">AGG</th>\n",
       "      <th colspan=\"6\" halign=\"left\">SPY</th>\n",
       "    </tr>\n",
       "    <tr>\n",
       "      <th></th>\n",
       "      <th>open</th>\n",
       "      <th>high</th>\n",
       "      <th>low</th>\n",
       "      <th>close</th>\n",
       "      <th>volume</th>\n",
       "      <th>daily_return</th>\n",
       "      <th>open</th>\n",
       "      <th>high</th>\n",
       "      <th>low</th>\n",
       "      <th>close</th>\n",
       "      <th>volume</th>\n",
       "      <th>daily_return</th>\n",
       "    </tr>\n",
       "    <tr>\n",
       "      <th>time</th>\n",
       "      <th></th>\n",
       "      <th></th>\n",
       "      <th></th>\n",
       "      <th></th>\n",
       "      <th></th>\n",
       "      <th></th>\n",
       "      <th></th>\n",
       "      <th></th>\n",
       "      <th></th>\n",
       "      <th></th>\n",
       "      <th></th>\n",
       "      <th></th>\n",
       "    </tr>\n",
       "  </thead>\n",
       "  <tbody>\n",
       "    <tr>\n",
       "      <th>2011-05-02 00:00:00-04:00</th>\n",
       "      <td>106.21</td>\n",
       "      <td>106.2400</td>\n",
       "      <td>106.04</td>\n",
       "      <td>106.19</td>\n",
       "      <td>553216.0</td>\n",
       "      <td>NaN</td>\n",
       "      <td>137.07</td>\n",
       "      <td>137.18</td>\n",
       "      <td>135.950</td>\n",
       "      <td>136.23</td>\n",
       "      <td>112873467</td>\n",
       "      <td>NaN</td>\n",
       "    </tr>\n",
       "    <tr>\n",
       "      <th>2011-05-03 00:00:00-04:00</th>\n",
       "      <td>106.26</td>\n",
       "      <td>106.3400</td>\n",
       "      <td>106.15</td>\n",
       "      <td>106.23</td>\n",
       "      <td>471087.0</td>\n",
       "      <td>0.000377</td>\n",
       "      <td>135.96</td>\n",
       "      <td>136.19</td>\n",
       "      <td>135.045</td>\n",
       "      <td>135.72</td>\n",
       "      <td>120587313</td>\n",
       "      <td>-0.003744</td>\n",
       "    </tr>\n",
       "    <tr>\n",
       "      <th>2011-05-04 00:00:00-04:00</th>\n",
       "      <td>106.23</td>\n",
       "      <td>106.4400</td>\n",
       "      <td>106.22</td>\n",
       "      <td>106.44</td>\n",
       "      <td>559439.0</td>\n",
       "      <td>0.001977</td>\n",
       "      <td>135.68</td>\n",
       "      <td>135.73</td>\n",
       "      <td>134.230</td>\n",
       "      <td>134.84</td>\n",
       "      <td>159738689</td>\n",
       "      <td>-0.006484</td>\n",
       "    </tr>\n",
       "    <tr>\n",
       "      <th>2011-05-05 00:00:00-04:00</th>\n",
       "      <td>106.47</td>\n",
       "      <td>106.7162</td>\n",
       "      <td>106.47</td>\n",
       "      <td>106.68</td>\n",
       "      <td>758341.0</td>\n",
       "      <td>0.002255</td>\n",
       "      <td>134.08</td>\n",
       "      <td>134.95</td>\n",
       "      <td>133.020</td>\n",
       "      <td>133.64</td>\n",
       "      <td>184291407</td>\n",
       "      <td>-0.008899</td>\n",
       "    </tr>\n",
       "    <tr>\n",
       "      <th>2011-05-06 00:00:00-04:00</th>\n",
       "      <td>106.56</td>\n",
       "      <td>106.8300</td>\n",
       "      <td>106.43</td>\n",
       "      <td>106.66</td>\n",
       "      <td>981926.0</td>\n",
       "      <td>-0.000187</td>\n",
       "      <td>134.93</td>\n",
       "      <td>135.63</td>\n",
       "      <td>133.220</td>\n",
       "      <td>134.17</td>\n",
       "      <td>187381641</td>\n",
       "      <td>0.003966</td>\n",
       "    </tr>\n",
       "  </tbody>\n",
       "</table>\n",
       "</div>"
      ],
      "text/plain": [
       "                              AGG                                      \\\n",
       "                             open      high     low   close    volume   \n",
       "time                                                                    \n",
       "2011-05-02 00:00:00-04:00  106.21  106.2400  106.04  106.19  553216.0   \n",
       "2011-05-03 00:00:00-04:00  106.26  106.3400  106.15  106.23  471087.0   \n",
       "2011-05-04 00:00:00-04:00  106.23  106.4400  106.22  106.44  559439.0   \n",
       "2011-05-05 00:00:00-04:00  106.47  106.7162  106.47  106.68  758341.0   \n",
       "2011-05-06 00:00:00-04:00  106.56  106.8300  106.43  106.66  981926.0   \n",
       "\n",
       "                                           SPY                           \\\n",
       "                          daily_return    open    high      low   close   \n",
       "time                                                                      \n",
       "2011-05-02 00:00:00-04:00          NaN  137.07  137.18  135.950  136.23   \n",
       "2011-05-03 00:00:00-04:00     0.000377  135.96  136.19  135.045  135.72   \n",
       "2011-05-04 00:00:00-04:00     0.001977  135.68  135.73  134.230  134.84   \n",
       "2011-05-05 00:00:00-04:00     0.002255  134.08  134.95  133.020  133.64   \n",
       "2011-05-06 00:00:00-04:00    -0.000187  134.93  135.63  133.220  134.17   \n",
       "\n",
       "                                                   \n",
       "                              volume daily_return  \n",
       "time                                               \n",
       "2011-05-02 00:00:00-04:00  112873467          NaN  \n",
       "2011-05-03 00:00:00-04:00  120587313    -0.003744  \n",
       "2011-05-04 00:00:00-04:00  159738689    -0.006484  \n",
       "2011-05-05 00:00:00-04:00  184291407    -0.008899  \n",
       "2011-05-06 00:00:00-04:00  187381641     0.003966  "
      ]
     },
     "execution_count": 42,
     "metadata": {},
     "output_type": "execute_result"
    }
   ],
   "source": [
    "# Configure the Monte Carlo simulation to forecast 30 years cumulative returns\n",
    "# The weights should be split 40% to AGG and 60% to SPY.\n",
    "# Run 500 samples.\n",
    "MC_40_60 = MCSimulation(\n",
    "    portfolio_data = alpaca_prices_df,\n",
    "    weights = [.40, .60],\n",
    "    num_simulation = 500,\n",
    "    num_trading_days = 252*30\n",
    ")\n",
    "\n",
    "\n",
    "\n",
    "# Review the simulation input data\n",
    "MC_40_60.portfolio_data.head()\n"
   ]
  },
  {
   "cell_type": "code",
   "execution_count": 43,
   "metadata": {},
   "outputs": [
    {
     "name": "stdout",
     "output_type": "stream",
     "text": [
      "Running Monte Carlo simulation number 0.\n",
      "Running Monte Carlo simulation number 10.\n",
      "Running Monte Carlo simulation number 20.\n",
      "Running Monte Carlo simulation number 30.\n",
      "Running Monte Carlo simulation number 40.\n",
      "Running Monte Carlo simulation number 50.\n",
      "Running Monte Carlo simulation number 60.\n",
      "Running Monte Carlo simulation number 70.\n",
      "Running Monte Carlo simulation number 80.\n",
      "Running Monte Carlo simulation number 90.\n",
      "Running Monte Carlo simulation number 100.\n",
      "Running Monte Carlo simulation number 110.\n",
      "Running Monte Carlo simulation number 120.\n",
      "Running Monte Carlo simulation number 130.\n",
      "Running Monte Carlo simulation number 140.\n",
      "Running Monte Carlo simulation number 150.\n",
      "Running Monte Carlo simulation number 160.\n",
      "Running Monte Carlo simulation number 170.\n",
      "Running Monte Carlo simulation number 180.\n",
      "Running Monte Carlo simulation number 190.\n",
      "Running Monte Carlo simulation number 200.\n",
      "Running Monte Carlo simulation number 210.\n",
      "Running Monte Carlo simulation number 220.\n",
      "Running Monte Carlo simulation number 230.\n",
      "Running Monte Carlo simulation number 240.\n",
      "Running Monte Carlo simulation number 250.\n",
      "Running Monte Carlo simulation number 260.\n",
      "Running Monte Carlo simulation number 270.\n",
      "Running Monte Carlo simulation number 280.\n",
      "Running Monte Carlo simulation number 290.\n",
      "Running Monte Carlo simulation number 300.\n",
      "Running Monte Carlo simulation number 310.\n",
      "Running Monte Carlo simulation number 320.\n",
      "Running Monte Carlo simulation number 330.\n",
      "Running Monte Carlo simulation number 340.\n",
      "Running Monte Carlo simulation number 350.\n",
      "Running Monte Carlo simulation number 360.\n",
      "Running Monte Carlo simulation number 370.\n",
      "Running Monte Carlo simulation number 380.\n",
      "Running Monte Carlo simulation number 390.\n",
      "Running Monte Carlo simulation number 400.\n",
      "Running Monte Carlo simulation number 410.\n",
      "Running Monte Carlo simulation number 420.\n",
      "Running Monte Carlo simulation number 430.\n",
      "Running Monte Carlo simulation number 440.\n",
      "Running Monte Carlo simulation number 450.\n",
      "Running Monte Carlo simulation number 460.\n",
      "Running Monte Carlo simulation number 470.\n",
      "Running Monte Carlo simulation number 480.\n",
      "Running Monte Carlo simulation number 490.\n"
     ]
    },
    {
     "data": {
      "text/html": [
       "<div>\n",
       "<style scoped>\n",
       "    .dataframe tbody tr th:only-of-type {\n",
       "        vertical-align: middle;\n",
       "    }\n",
       "\n",
       "    .dataframe tbody tr th {\n",
       "        vertical-align: top;\n",
       "    }\n",
       "\n",
       "    .dataframe thead th {\n",
       "        text-align: right;\n",
       "    }\n",
       "</style>\n",
       "<table border=\"1\" class=\"dataframe\">\n",
       "  <thead>\n",
       "    <tr style=\"text-align: right;\">\n",
       "      <th></th>\n",
       "      <th>0</th>\n",
       "      <th>1</th>\n",
       "      <th>2</th>\n",
       "      <th>3</th>\n",
       "      <th>4</th>\n",
       "      <th>5</th>\n",
       "      <th>6</th>\n",
       "      <th>7</th>\n",
       "      <th>8</th>\n",
       "      <th>9</th>\n",
       "      <th>...</th>\n",
       "      <th>490</th>\n",
       "      <th>491</th>\n",
       "      <th>492</th>\n",
       "      <th>493</th>\n",
       "      <th>494</th>\n",
       "      <th>495</th>\n",
       "      <th>496</th>\n",
       "      <th>497</th>\n",
       "      <th>498</th>\n",
       "      <th>499</th>\n",
       "    </tr>\n",
       "  </thead>\n",
       "  <tbody>\n",
       "    <tr>\n",
       "      <th>0</th>\n",
       "      <td>1.000000</td>\n",
       "      <td>1.000000</td>\n",
       "      <td>1.000000</td>\n",
       "      <td>1.000000</td>\n",
       "      <td>1.000000</td>\n",
       "      <td>1.000000</td>\n",
       "      <td>1.000000</td>\n",
       "      <td>1.000000</td>\n",
       "      <td>1.000000</td>\n",
       "      <td>1.000000</td>\n",
       "      <td>...</td>\n",
       "      <td>1.000000</td>\n",
       "      <td>1.000000</td>\n",
       "      <td>1.000000</td>\n",
       "      <td>1.000000</td>\n",
       "      <td>1.000000</td>\n",
       "      <td>1.000000</td>\n",
       "      <td>1.000000</td>\n",
       "      <td>1.000000</td>\n",
       "      <td>1.000000</td>\n",
       "      <td>1.000000</td>\n",
       "    </tr>\n",
       "    <tr>\n",
       "      <th>1</th>\n",
       "      <td>1.009143</td>\n",
       "      <td>1.014637</td>\n",
       "      <td>1.002468</td>\n",
       "      <td>1.005426</td>\n",
       "      <td>0.996093</td>\n",
       "      <td>0.998087</td>\n",
       "      <td>0.999489</td>\n",
       "      <td>1.001905</td>\n",
       "      <td>1.009454</td>\n",
       "      <td>1.010573</td>\n",
       "      <td>...</td>\n",
       "      <td>1.000534</td>\n",
       "      <td>0.996159</td>\n",
       "      <td>1.000973</td>\n",
       "      <td>0.995931</td>\n",
       "      <td>1.004170</td>\n",
       "      <td>0.988632</td>\n",
       "      <td>1.002143</td>\n",
       "      <td>0.998053</td>\n",
       "      <td>0.996106</td>\n",
       "      <td>1.000953</td>\n",
       "    </tr>\n",
       "    <tr>\n",
       "      <th>2</th>\n",
       "      <td>1.008032</td>\n",
       "      <td>1.030115</td>\n",
       "      <td>0.995835</td>\n",
       "      <td>1.000011</td>\n",
       "      <td>0.996023</td>\n",
       "      <td>0.991279</td>\n",
       "      <td>1.001208</td>\n",
       "      <td>1.012226</td>\n",
       "      <td>1.014208</td>\n",
       "      <td>1.006540</td>\n",
       "      <td>...</td>\n",
       "      <td>1.000383</td>\n",
       "      <td>1.000451</td>\n",
       "      <td>1.017501</td>\n",
       "      <td>1.000249</td>\n",
       "      <td>1.000190</td>\n",
       "      <td>0.972300</td>\n",
       "      <td>0.990885</td>\n",
       "      <td>1.006696</td>\n",
       "      <td>1.003391</td>\n",
       "      <td>0.992504</td>\n",
       "    </tr>\n",
       "    <tr>\n",
       "      <th>3</th>\n",
       "      <td>1.006954</td>\n",
       "      <td>1.036519</td>\n",
       "      <td>0.999797</td>\n",
       "      <td>1.002042</td>\n",
       "      <td>0.982436</td>\n",
       "      <td>0.980979</td>\n",
       "      <td>1.007739</td>\n",
       "      <td>1.009625</td>\n",
       "      <td>1.005998</td>\n",
       "      <td>1.004540</td>\n",
       "      <td>...</td>\n",
       "      <td>0.993594</td>\n",
       "      <td>0.990948</td>\n",
       "      <td>1.018286</td>\n",
       "      <td>1.008946</td>\n",
       "      <td>0.990815</td>\n",
       "      <td>0.981326</td>\n",
       "      <td>0.985347</td>\n",
       "      <td>1.014913</td>\n",
       "      <td>1.006467</td>\n",
       "      <td>1.000291</td>\n",
       "    </tr>\n",
       "    <tr>\n",
       "      <th>4</th>\n",
       "      <td>1.009038</td>\n",
       "      <td>1.038754</td>\n",
       "      <td>1.016395</td>\n",
       "      <td>0.999696</td>\n",
       "      <td>0.989986</td>\n",
       "      <td>0.979060</td>\n",
       "      <td>1.007496</td>\n",
       "      <td>1.013890</td>\n",
       "      <td>0.998525</td>\n",
       "      <td>1.012569</td>\n",
       "      <td>...</td>\n",
       "      <td>0.994989</td>\n",
       "      <td>0.983764</td>\n",
       "      <td>1.019692</td>\n",
       "      <td>1.011851</td>\n",
       "      <td>0.992684</td>\n",
       "      <td>0.984927</td>\n",
       "      <td>0.981066</td>\n",
       "      <td>1.005644</td>\n",
       "      <td>1.003487</td>\n",
       "      <td>1.000941</td>\n",
       "    </tr>\n",
       "    <tr>\n",
       "      <th>...</th>\n",
       "      <td>...</td>\n",
       "      <td>...</td>\n",
       "      <td>...</td>\n",
       "      <td>...</td>\n",
       "      <td>...</td>\n",
       "      <td>...</td>\n",
       "      <td>...</td>\n",
       "      <td>...</td>\n",
       "      <td>...</td>\n",
       "      <td>...</td>\n",
       "      <td>...</td>\n",
       "      <td>...</td>\n",
       "      <td>...</td>\n",
       "      <td>...</td>\n",
       "      <td>...</td>\n",
       "      <td>...</td>\n",
       "      <td>...</td>\n",
       "      <td>...</td>\n",
       "      <td>...</td>\n",
       "      <td>...</td>\n",
       "      <td>...</td>\n",
       "    </tr>\n",
       "    <tr>\n",
       "      <th>7556</th>\n",
       "      <td>11.874620</td>\n",
       "      <td>10.829619</td>\n",
       "      <td>15.184975</td>\n",
       "      <td>11.467781</td>\n",
       "      <td>7.050771</td>\n",
       "      <td>11.451808</td>\n",
       "      <td>14.299688</td>\n",
       "      <td>7.625474</td>\n",
       "      <td>6.551074</td>\n",
       "      <td>46.960987</td>\n",
       "      <td>...</td>\n",
       "      <td>9.782163</td>\n",
       "      <td>7.033044</td>\n",
       "      <td>18.302498</td>\n",
       "      <td>4.875155</td>\n",
       "      <td>20.250943</td>\n",
       "      <td>13.271906</td>\n",
       "      <td>8.943597</td>\n",
       "      <td>6.546045</td>\n",
       "      <td>5.444890</td>\n",
       "      <td>29.184146</td>\n",
       "    </tr>\n",
       "    <tr>\n",
       "      <th>7557</th>\n",
       "      <td>11.800879</td>\n",
       "      <td>10.904610</td>\n",
       "      <td>15.038057</td>\n",
       "      <td>11.414366</td>\n",
       "      <td>7.137902</td>\n",
       "      <td>11.435487</td>\n",
       "      <td>14.208275</td>\n",
       "      <td>7.685516</td>\n",
       "      <td>6.534970</td>\n",
       "      <td>46.571311</td>\n",
       "      <td>...</td>\n",
       "      <td>9.776253</td>\n",
       "      <td>7.008934</td>\n",
       "      <td>18.139209</td>\n",
       "      <td>4.853000</td>\n",
       "      <td>19.954076</td>\n",
       "      <td>13.292046</td>\n",
       "      <td>8.888334</td>\n",
       "      <td>6.552505</td>\n",
       "      <td>5.347598</td>\n",
       "      <td>29.460155</td>\n",
       "    </tr>\n",
       "    <tr>\n",
       "      <th>7558</th>\n",
       "      <td>11.955740</td>\n",
       "      <td>10.957389</td>\n",
       "      <td>15.000346</td>\n",
       "      <td>11.515627</td>\n",
       "      <td>7.043211</td>\n",
       "      <td>11.562288</td>\n",
       "      <td>14.179763</td>\n",
       "      <td>7.684471</td>\n",
       "      <td>6.504952</td>\n",
       "      <td>46.954100</td>\n",
       "      <td>...</td>\n",
       "      <td>9.713138</td>\n",
       "      <td>6.989010</td>\n",
       "      <td>18.106557</td>\n",
       "      <td>4.900888</td>\n",
       "      <td>19.679660</td>\n",
       "      <td>13.347688</td>\n",
       "      <td>8.983917</td>\n",
       "      <td>6.604558</td>\n",
       "      <td>5.340759</td>\n",
       "      <td>29.278029</td>\n",
       "    </tr>\n",
       "    <tr>\n",
       "      <th>7559</th>\n",
       "      <td>11.900452</td>\n",
       "      <td>10.952006</td>\n",
       "      <td>15.300249</td>\n",
       "      <td>11.530675</td>\n",
       "      <td>7.021184</td>\n",
       "      <td>11.533351</td>\n",
       "      <td>14.291415</td>\n",
       "      <td>7.773119</td>\n",
       "      <td>6.465943</td>\n",
       "      <td>47.216630</td>\n",
       "      <td>...</td>\n",
       "      <td>9.709545</td>\n",
       "      <td>6.975501</td>\n",
       "      <td>18.112803</td>\n",
       "      <td>4.918863</td>\n",
       "      <td>19.774505</td>\n",
       "      <td>13.214571</td>\n",
       "      <td>9.011834</td>\n",
       "      <td>6.587265</td>\n",
       "      <td>5.355129</td>\n",
       "      <td>29.503380</td>\n",
       "    </tr>\n",
       "    <tr>\n",
       "      <th>7560</th>\n",
       "      <td>12.055487</td>\n",
       "      <td>10.953878</td>\n",
       "      <td>15.361404</td>\n",
       "      <td>11.546312</td>\n",
       "      <td>7.101947</td>\n",
       "      <td>11.521012</td>\n",
       "      <td>14.364219</td>\n",
       "      <td>7.746414</td>\n",
       "      <td>6.446910</td>\n",
       "      <td>47.388626</td>\n",
       "      <td>...</td>\n",
       "      <td>9.690201</td>\n",
       "      <td>7.060060</td>\n",
       "      <td>17.991157</td>\n",
       "      <td>4.944365</td>\n",
       "      <td>19.739093</td>\n",
       "      <td>13.334531</td>\n",
       "      <td>9.000970</td>\n",
       "      <td>6.582448</td>\n",
       "      <td>5.383783</td>\n",
       "      <td>29.486584</td>\n",
       "    </tr>\n",
       "  </tbody>\n",
       "</table>\n",
       "<p>7561 rows × 500 columns</p>\n",
       "</div>"
      ],
      "text/plain": [
       "            0          1          2          3         4          5    \\\n",
       "0      1.000000   1.000000   1.000000   1.000000  1.000000   1.000000   \n",
       "1      1.009143   1.014637   1.002468   1.005426  0.996093   0.998087   \n",
       "2      1.008032   1.030115   0.995835   1.000011  0.996023   0.991279   \n",
       "3      1.006954   1.036519   0.999797   1.002042  0.982436   0.980979   \n",
       "4      1.009038   1.038754   1.016395   0.999696  0.989986   0.979060   \n",
       "...         ...        ...        ...        ...       ...        ...   \n",
       "7556  11.874620  10.829619  15.184975  11.467781  7.050771  11.451808   \n",
       "7557  11.800879  10.904610  15.038057  11.414366  7.137902  11.435487   \n",
       "7558  11.955740  10.957389  15.000346  11.515627  7.043211  11.562288   \n",
       "7559  11.900452  10.952006  15.300249  11.530675  7.021184  11.533351   \n",
       "7560  12.055487  10.953878  15.361404  11.546312  7.101947  11.521012   \n",
       "\n",
       "            6         7         8          9    ...       490       491  \\\n",
       "0      1.000000  1.000000  1.000000   1.000000  ...  1.000000  1.000000   \n",
       "1      0.999489  1.001905  1.009454   1.010573  ...  1.000534  0.996159   \n",
       "2      1.001208  1.012226  1.014208   1.006540  ...  1.000383  1.000451   \n",
       "3      1.007739  1.009625  1.005998   1.004540  ...  0.993594  0.990948   \n",
       "4      1.007496  1.013890  0.998525   1.012569  ...  0.994989  0.983764   \n",
       "...         ...       ...       ...        ...  ...       ...       ...   \n",
       "7556  14.299688  7.625474  6.551074  46.960987  ...  9.782163  7.033044   \n",
       "7557  14.208275  7.685516  6.534970  46.571311  ...  9.776253  7.008934   \n",
       "7558  14.179763  7.684471  6.504952  46.954100  ...  9.713138  6.989010   \n",
       "7559  14.291415  7.773119  6.465943  47.216630  ...  9.709545  6.975501   \n",
       "7560  14.364219  7.746414  6.446910  47.388626  ...  9.690201  7.060060   \n",
       "\n",
       "            492       493        494        495       496       497       498  \\\n",
       "0      1.000000  1.000000   1.000000   1.000000  1.000000  1.000000  1.000000   \n",
       "1      1.000973  0.995931   1.004170   0.988632  1.002143  0.998053  0.996106   \n",
       "2      1.017501  1.000249   1.000190   0.972300  0.990885  1.006696  1.003391   \n",
       "3      1.018286  1.008946   0.990815   0.981326  0.985347  1.014913  1.006467   \n",
       "4      1.019692  1.011851   0.992684   0.984927  0.981066  1.005644  1.003487   \n",
       "...         ...       ...        ...        ...       ...       ...       ...   \n",
       "7556  18.302498  4.875155  20.250943  13.271906  8.943597  6.546045  5.444890   \n",
       "7557  18.139209  4.853000  19.954076  13.292046  8.888334  6.552505  5.347598   \n",
       "7558  18.106557  4.900888  19.679660  13.347688  8.983917  6.604558  5.340759   \n",
       "7559  18.112803  4.918863  19.774505  13.214571  9.011834  6.587265  5.355129   \n",
       "7560  17.991157  4.944365  19.739093  13.334531  9.000970  6.582448  5.383783   \n",
       "\n",
       "            499  \n",
       "0      1.000000  \n",
       "1      1.000953  \n",
       "2      0.992504  \n",
       "3      1.000291  \n",
       "4      1.000941  \n",
       "...         ...  \n",
       "7556  29.184146  \n",
       "7557  29.460155  \n",
       "7558  29.278029  \n",
       "7559  29.503380  \n",
       "7560  29.486584  \n",
       "\n",
       "[7561 rows x 500 columns]"
      ]
     },
     "execution_count": 43,
     "metadata": {},
     "output_type": "execute_result"
    }
   ],
   "source": [
    "# Run the Monte Carlo simulation to forecast 30 years cumulative returns\n",
    "MC_40_60.calc_cumulative_return()\n"
   ]
  },
  {
   "cell_type": "code",
   "execution_count": 44,
   "metadata": {},
   "outputs": [
    {
     "data": {
      "image/png": "[encoded data removed]",
      "text/plain": [
       "<Figure size 432x288 with 1 Axes>"
      ]
     },
     "metadata": {
      "needs_background": "light"
     },
     "output_type": "display_data"
    }
   ],
   "source": [
    "# Visualize the 30-year Monte Carlo simulation by creating an\n",
    "# overlay line plot\n",
    "MC_40_60_line_plot = MC_40_60.plot_simulation()\n"
   ]
  },
  {
   "cell_type": "markdown",
   "metadata": {},
   "source": [
    "#### Step 3: Plot the probability distribution of the Monte Carlo simulation."
   ]
  },
  {
   "cell_type": "code",
   "execution_count": 45,
   "metadata": {},
   "outputs": [
    {
     "data": {
      "image/png": "[encoded data removed]",
      "text/plain": [
       "<Figure size 432x288 with 1 Axes>"
      ]
     },
     "metadata": {
      "needs_background": "light"
     },
     "output_type": "display_data"
    }
   ],
   "source": [
    "# Visualize the probability distribution of the 30-year Monte Carlo simulation \n",
    "# by plotting a histogram\n",
    "MC_40_60_distribution_plot = MC_40_60.plot_distribution()\n"
   ]
  },
  {
   "cell_type": "markdown",
   "metadata": {},
   "source": [
    "#### Step 4: Generate the summary statistics for the Monte Carlo simulation."
   ]
  },
  {
   "cell_type": "code",
   "execution_count": 46,
   "metadata": {},
   "outputs": [
    {
     "name": "stdout",
     "output_type": "stream",
     "text": [
      "count           500.000000\n",
      "mean             10.542913\n",
      "std               6.810105\n",
      "min               1.348219\n",
      "25%               5.802968\n",
      "50%               8.788239\n",
      "75%              13.350321\n",
      "max              50.606862\n",
      "95% CI Lower      2.939792\n",
      "95% CI Upper     29.110396\n",
      "Name: 7560, dtype: float64\n"
     ]
    }
   ],
   "source": [
    "# Generate summary statistics from the 30-year Monte Carlo simulation results\n",
    "# Save the results as a variable\n",
    "MC_40_60_table = MC_40_60.summarize_cumulative_return()\n",
    "\n",
    "\n",
    "# Review the 30-year Monte Carlo summary statistics\n",
    "print(MC_40_60_table)"
   ]
  },
  {
   "cell_type": "markdown",
   "metadata": {},
   "source": [
    "### Analyze the Retirement Portfolio Forecasts\n",
    "\n",
    "Using the current value of only the stock and bond portion of the member's portfolio and the summary statistics that you generated from the Monte Carlo simulation, answer the following question in your Jupyter notebook:\n",
    "\n",
    "-  What are the lower and upper bounds for the expected value of the portfolio with a 95% confidence interval?\n"
   ]
  },
  {
   "cell_type": "code",
   "execution_count": 47,
   "metadata": {},
   "outputs": [
    {
     "name": "stdout",
     "output_type": "stream",
     "text": [
      "The current balance of the stock and bond portion of your porfolio is $68803.00\n"
     ]
    }
   ],
   "source": [
    "# Print the current balance of the stock and bond portion of the members portfolio\n",
    "print(f\"The current balance of the stock and bond portion of your porfolio is ${total_stocks_bonds:.2f}\")\n"
   ]
  },
  {
   "cell_type": "code",
   "execution_count": 51,
   "metadata": {},
   "outputs": [
    {
     "name": "stdout",
     "output_type": "stream",
     "text": [
      "Within a 95% confidence interval your current stock/bond portfolio will be between $202266.00 & $2002883.00\n"
     ]
    }
   ],
   "source": [
    "# Use the lower and upper `95%` confidence intervals to calculate the range of the possible outcomes for the current stock/bond portfolio\n",
    "ci_lower_thirty_cumulative_return = round(MC_40_60_table[8]*total_stocks_bonds)\n",
    "ci_upper_thirty_cumulative_return = round(MC_40_60_table[9]*total_stocks_bonds)\n",
    "\n",
    "# Print the result of your calculations\n",
    "print(f\"Within a 95% confidence interval your current stock/bond portfolio will be between ${ci_lower_thirty_cumulative_return:.2f} & ${ci_upper_thirty_cumulative_return:.2f}\")\n"
   ]
  },
  {
   "cell_type": "markdown",
   "metadata": {},
   "source": [
    "### Forecast Cumulative Returns in 10 Years\n",
    "\n",
    "The CTO of the credit union is impressed with your work on these planning tools but wonders if 30 years is a long time to wait until retirement. So, your next task is to adjust the retirement portfolio and run a new Monte Carlo simulation to find out if the changes will allow members to retire earlier.\n",
    "\n",
    "For this new Monte Carlo simulation, do the following: \n",
    "\n",
    "- Forecast the cumulative returns for 10 years from now. Because of the shortened investment horizon (30 years to 10 years), the portfolio needs to invest more heavily in the riskier asset&mdash;that is, stock&mdash;to help accumulate wealth for retirement. \n",
    "\n",
    "- Adjust the weights of the retirement portfolio so that the composition for the Monte Carlo simulation consists of 20% bonds and 80% stocks. \n",
    "\n",
    "- Run the simulation over 500 samples, and use the same data that the API call to Alpaca generated.\n",
    "\n",
    "- Based on the new Monte Carlo simulation, answer the following questions in your Jupyter notebook:\n",
    "\n",
    "    - Using the current value of only the stock and bond portion of the member's portfolio and the summary statistics that you generated from the new Monte Carlo simulation, what are the lower and upper bounds for the expected value of the portfolio (with the new weights) with a 95% confidence interval?\n",
    "\n",
    "    - Will weighting the portfolio more heavily toward stocks allow the credit union members to retire after only 10 years?\n"
   ]
  },
  {
   "cell_type": "code",
   "execution_count": 52,
   "metadata": {},
   "outputs": [
    {
     "data": {
      "text/html": [
       "<div>\n",
       "<style scoped>\n",
       "    .dataframe tbody tr th:only-of-type {\n",
       "        vertical-align: middle;\n",
       "    }\n",
       "\n",
       "    .dataframe tbody tr th {\n",
       "        vertical-align: top;\n",
       "    }\n",
       "\n",
       "    .dataframe thead tr th {\n",
       "        text-align: left;\n",
       "    }\n",
       "\n",
       "    .dataframe thead tr:last-of-type th {\n",
       "        text-align: right;\n",
       "    }\n",
       "</style>\n",
       "<table border=\"1\" class=\"dataframe\">\n",
       "  <thead>\n",
       "    <tr>\n",
       "      <th></th>\n",
       "      <th colspan=\"6\" halign=\"left\">AGG</th>\n",
       "      <th colspan=\"6\" halign=\"left\">SPY</th>\n",
       "    </tr>\n",
       "    <tr>\n",
       "      <th></th>\n",
       "      <th>open</th>\n",
       "      <th>high</th>\n",
       "      <th>low</th>\n",
       "      <th>close</th>\n",
       "      <th>volume</th>\n",
       "      <th>daily_return</th>\n",
       "      <th>open</th>\n",
       "      <th>high</th>\n",
       "      <th>low</th>\n",
       "      <th>close</th>\n",
       "      <th>volume</th>\n",
       "      <th>daily_return</th>\n",
       "    </tr>\n",
       "    <tr>\n",
       "      <th>time</th>\n",
       "      <th></th>\n",
       "      <th></th>\n",
       "      <th></th>\n",
       "      <th></th>\n",
       "      <th></th>\n",
       "      <th></th>\n",
       "      <th></th>\n",
       "      <th></th>\n",
       "      <th></th>\n",
       "      <th></th>\n",
       "      <th></th>\n",
       "      <th></th>\n",
       "    </tr>\n",
       "  </thead>\n",
       "  <tbody>\n",
       "    <tr>\n",
       "      <th>2011-05-02 00:00:00-04:00</th>\n",
       "      <td>106.21</td>\n",
       "      <td>106.2400</td>\n",
       "      <td>106.04</td>\n",
       "      <td>106.19</td>\n",
       "      <td>553216.0</td>\n",
       "      <td>NaN</td>\n",
       "      <td>137.07</td>\n",
       "      <td>137.18</td>\n",
       "      <td>135.950</td>\n",
       "      <td>136.23</td>\n",
       "      <td>112873467</td>\n",
       "      <td>NaN</td>\n",
       "    </tr>\n",
       "    <tr>\n",
       "      <th>2011-05-03 00:00:00-04:00</th>\n",
       "      <td>106.26</td>\n",
       "      <td>106.3400</td>\n",
       "      <td>106.15</td>\n",
       "      <td>106.23</td>\n",
       "      <td>471087.0</td>\n",
       "      <td>0.000377</td>\n",
       "      <td>135.96</td>\n",
       "      <td>136.19</td>\n",
       "      <td>135.045</td>\n",
       "      <td>135.72</td>\n",
       "      <td>120587313</td>\n",
       "      <td>-0.003744</td>\n",
       "    </tr>\n",
       "    <tr>\n",
       "      <th>2011-05-04 00:00:00-04:00</th>\n",
       "      <td>106.23</td>\n",
       "      <td>106.4400</td>\n",
       "      <td>106.22</td>\n",
       "      <td>106.44</td>\n",
       "      <td>559439.0</td>\n",
       "      <td>0.001977</td>\n",
       "      <td>135.68</td>\n",
       "      <td>135.73</td>\n",
       "      <td>134.230</td>\n",
       "      <td>134.84</td>\n",
       "      <td>159738689</td>\n",
       "      <td>-0.006484</td>\n",
       "    </tr>\n",
       "    <tr>\n",
       "      <th>2011-05-05 00:00:00-04:00</th>\n",
       "      <td>106.47</td>\n",
       "      <td>106.7162</td>\n",
       "      <td>106.47</td>\n",
       "      <td>106.68</td>\n",
       "      <td>758341.0</td>\n",
       "      <td>0.002255</td>\n",
       "      <td>134.08</td>\n",
       "      <td>134.95</td>\n",
       "      <td>133.020</td>\n",
       "      <td>133.64</td>\n",
       "      <td>184291407</td>\n",
       "      <td>-0.008899</td>\n",
       "    </tr>\n",
       "    <tr>\n",
       "      <th>2011-05-06 00:00:00-04:00</th>\n",
       "      <td>106.56</td>\n",
       "      <td>106.8300</td>\n",
       "      <td>106.43</td>\n",
       "      <td>106.66</td>\n",
       "      <td>981926.0</td>\n",
       "      <td>-0.000187</td>\n",
       "      <td>134.93</td>\n",
       "      <td>135.63</td>\n",
       "      <td>133.220</td>\n",
       "      <td>134.17</td>\n",
       "      <td>187381641</td>\n",
       "      <td>0.003966</td>\n",
       "    </tr>\n",
       "  </tbody>\n",
       "</table>\n",
       "</div>"
      ],
      "text/plain": [
       "                              AGG                                      \\\n",
       "                             open      high     low   close    volume   \n",
       "time                                                                    \n",
       "2011-05-02 00:00:00-04:00  106.21  106.2400  106.04  106.19  553216.0   \n",
       "2011-05-03 00:00:00-04:00  106.26  106.3400  106.15  106.23  471087.0   \n",
       "2011-05-04 00:00:00-04:00  106.23  106.4400  106.22  106.44  559439.0   \n",
       "2011-05-05 00:00:00-04:00  106.47  106.7162  106.47  106.68  758341.0   \n",
       "2011-05-06 00:00:00-04:00  106.56  106.8300  106.43  106.66  981926.0   \n",
       "\n",
       "                                           SPY                           \\\n",
       "                          daily_return    open    high      low   close   \n",
       "time                                                                      \n",
       "2011-05-02 00:00:00-04:00          NaN  137.07  137.18  135.950  136.23   \n",
       "2011-05-03 00:00:00-04:00     0.000377  135.96  136.19  135.045  135.72   \n",
       "2011-05-04 00:00:00-04:00     0.001977  135.68  135.73  134.230  134.84   \n",
       "2011-05-05 00:00:00-04:00     0.002255  134.08  134.95  133.020  133.64   \n",
       "2011-05-06 00:00:00-04:00    -0.000187  134.93  135.63  133.220  134.17   \n",
       "\n",
       "                                                   \n",
       "                              volume daily_return  \n",
       "time                                               \n",
       "2011-05-02 00:00:00-04:00  112873467          NaN  \n",
       "2011-05-03 00:00:00-04:00  120587313    -0.003744  \n",
       "2011-05-04 00:00:00-04:00  159738689    -0.006484  \n",
       "2011-05-05 00:00:00-04:00  184291407    -0.008899  \n",
       "2011-05-06 00:00:00-04:00  187381641     0.003966  "
      ]
     },
     "execution_count": 52,
     "metadata": {},
     "output_type": "execute_result"
    }
   ],
   "source": [
    "# Configure a Monte Carlo simulation to forecast 10 years cumulative returns\n",
    "# The weights should be split 20% to AGG and 80% to SPY.\n",
    "# Run 500 samples.\n",
    "MC_20_80 = MCSimulation(\n",
    "    portfolio_data = alpaca_prices_df,\n",
    "    weights = [.20, .80],\n",
    "    num_simulation = 500,\n",
    "    num_trading_days = 252*10\n",
    ")\n",
    "\n",
    "# Review the simulation input data\n",
    "MC_20_80.portfolio_data.head()\n"
   ]
  },
  {
   "cell_type": "code",
   "execution_count": 53,
   "metadata": {},
   "outputs": [
    {
     "name": "stdout",
     "output_type": "stream",
     "text": [
      "Running Monte Carlo simulation number 0.\n",
      "Running Monte Carlo simulation number 10.\n",
      "Running Monte Carlo simulation number 20.\n",
      "Running Monte Carlo simulation number 30.\n",
      "Running Monte Carlo simulation number 40.\n",
      "Running Monte Carlo simulation number 50.\n",
      "Running Monte Carlo simulation number 60.\n",
      "Running Monte Carlo simulation number 70.\n",
      "Running Monte Carlo simulation number 80.\n",
      "Running Monte Carlo simulation number 90.\n",
      "Running Monte Carlo simulation number 100.\n",
      "Running Monte Carlo simulation number 110.\n",
      "Running Monte Carlo simulation number 120.\n",
      "Running Monte Carlo simulation number 130.\n",
      "Running Monte Carlo simulation number 140.\n",
      "Running Monte Carlo simulation number 150.\n",
      "Running Monte Carlo simulation number 160.\n",
      "Running Monte Carlo simulation number 170.\n",
      "Running Monte Carlo simulation number 180.\n",
      "Running Monte Carlo simulation number 190.\n",
      "Running Monte Carlo simulation number 200.\n",
      "Running Monte Carlo simulation number 210.\n",
      "Running Monte Carlo simulation number 220.\n",
      "Running Monte Carlo simulation number 230.\n",
      "Running Monte Carlo simulation number 240.\n",
      "Running Monte Carlo simulation number 250.\n",
      "Running Monte Carlo simulation number 260.\n",
      "Running Monte Carlo simulation number 270.\n",
      "Running Monte Carlo simulation number 280.\n",
      "Running Monte Carlo simulation number 290.\n",
      "Running Monte Carlo simulation number 300.\n",
      "Running Monte Carlo simulation number 310.\n",
      "Running Monte Carlo simulation number 320.\n",
      "Running Monte Carlo simulation number 330.\n",
      "Running Monte Carlo simulation number 340.\n",
      "Running Monte Carlo simulation number 350.\n",
      "Running Monte Carlo simulation number 360.\n",
      "Running Monte Carlo simulation number 370.\n",
      "Running Monte Carlo simulation number 380.\n",
      "Running Monte Carlo simulation number 390.\n",
      "Running Monte Carlo simulation number 400.\n",
      "Running Monte Carlo simulation number 410.\n",
      "Running Monte Carlo simulation number 420.\n",
      "Running Monte Carlo simulation number 430.\n",
      "Running Monte Carlo simulation number 440.\n",
      "Running Monte Carlo simulation number 450.\n",
      "Running Monte Carlo simulation number 460.\n",
      "Running Monte Carlo simulation number 470.\n",
      "Running Monte Carlo simulation number 480.\n",
      "Running Monte Carlo simulation number 490.\n"
     ]
    },
    {
     "data": {
      "text/html": [
       "<div>\n",
       "<style scoped>\n",
       "    .dataframe tbody tr th:only-of-type {\n",
       "        vertical-align: middle;\n",
       "    }\n",
       "\n",
       "    .dataframe tbody tr th {\n",
       "        vertical-align: top;\n",
       "    }\n",
       "\n",
       "    .dataframe thead th {\n",
       "        text-align: right;\n",
       "    }\n",
       "</style>\n",
       "<table border=\"1\" class=\"dataframe\">\n",
       "  <thead>\n",
       "    <tr style=\"text-align: right;\">\n",
       "      <th></th>\n",
       "      <th>0</th>\n",
       "      <th>1</th>\n",
       "      <th>2</th>\n",
       "      <th>3</th>\n",
       "      <th>4</th>\n",
       "      <th>5</th>\n",
       "      <th>6</th>\n",
       "      <th>7</th>\n",
       "      <th>8</th>\n",
       "      <th>9</th>\n",
       "      <th>...</th>\n",
       "      <th>490</th>\n",
       "      <th>491</th>\n",
       "      <th>492</th>\n",
       "      <th>493</th>\n",
       "      <th>494</th>\n",
       "      <th>495</th>\n",
       "      <th>496</th>\n",
       "      <th>497</th>\n",
       "      <th>498</th>\n",
       "      <th>499</th>\n",
       "    </tr>\n",
       "  </thead>\n",
       "  <tbody>\n",
       "    <tr>\n",
       "      <th>0</th>\n",
       "      <td>1.000000</td>\n",
       "      <td>1.000000</td>\n",
       "      <td>1.000000</td>\n",
       "      <td>1.000000</td>\n",
       "      <td>1.000000</td>\n",
       "      <td>1.000000</td>\n",
       "      <td>1.000000</td>\n",
       "      <td>1.000000</td>\n",
       "      <td>1.000000</td>\n",
       "      <td>1.000000</td>\n",
       "      <td>...</td>\n",
       "      <td>1.000000</td>\n",
       "      <td>1.000000</td>\n",
       "      <td>1.000000</td>\n",
       "      <td>1.000000</td>\n",
       "      <td>1.000000</td>\n",
       "      <td>1.000000</td>\n",
       "      <td>1.000000</td>\n",
       "      <td>1.000000</td>\n",
       "      <td>1.000000</td>\n",
       "      <td>1.000000</td>\n",
       "    </tr>\n",
       "    <tr>\n",
       "      <th>1</th>\n",
       "      <td>0.995017</td>\n",
       "      <td>1.003793</td>\n",
       "      <td>1.012570</td>\n",
       "      <td>1.013127</td>\n",
       "      <td>1.010929</td>\n",
       "      <td>0.991610</td>\n",
       "      <td>1.013182</td>\n",
       "      <td>1.002730</td>\n",
       "      <td>1.017007</td>\n",
       "      <td>1.015071</td>\n",
       "      <td>...</td>\n",
       "      <td>0.998487</td>\n",
       "      <td>1.008318</td>\n",
       "      <td>1.004553</td>\n",
       "      <td>1.016383</td>\n",
       "      <td>1.001060</td>\n",
       "      <td>0.990952</td>\n",
       "      <td>1.001882</td>\n",
       "      <td>0.992990</td>\n",
       "      <td>1.005456</td>\n",
       "      <td>0.998962</td>\n",
       "    </tr>\n",
       "    <tr>\n",
       "      <th>2</th>\n",
       "      <td>0.978880</td>\n",
       "      <td>1.001299</td>\n",
       "      <td>1.012405</td>\n",
       "      <td>1.013477</td>\n",
       "      <td>1.004184</td>\n",
       "      <td>0.987180</td>\n",
       "      <td>1.019585</td>\n",
       "      <td>0.984988</td>\n",
       "      <td>1.026287</td>\n",
       "      <td>1.022476</td>\n",
       "      <td>...</td>\n",
       "      <td>0.992432</td>\n",
       "      <td>1.003177</td>\n",
       "      <td>1.002009</td>\n",
       "      <td>1.013300</td>\n",
       "      <td>1.003317</td>\n",
       "      <td>0.986212</td>\n",
       "      <td>1.005919</td>\n",
       "      <td>0.986398</td>\n",
       "      <td>1.008276</td>\n",
       "      <td>1.001923</td>\n",
       "    </tr>\n",
       "    <tr>\n",
       "      <th>3</th>\n",
       "      <td>0.993504</td>\n",
       "      <td>1.022065</td>\n",
       "      <td>1.013210</td>\n",
       "      <td>1.019086</td>\n",
       "      <td>0.983700</td>\n",
       "      <td>0.986849</td>\n",
       "      <td>1.022013</td>\n",
       "      <td>0.991187</td>\n",
       "      <td>1.005100</td>\n",
       "      <td>1.012132</td>\n",
       "      <td>...</td>\n",
       "      <td>0.998877</td>\n",
       "      <td>1.008210</td>\n",
       "      <td>1.005990</td>\n",
       "      <td>1.013552</td>\n",
       "      <td>0.999628</td>\n",
       "      <td>0.985168</td>\n",
       "      <td>1.002025</td>\n",
       "      <td>0.990051</td>\n",
       "      <td>1.012519</td>\n",
       "      <td>1.000262</td>\n",
       "    </tr>\n",
       "    <tr>\n",
       "      <th>4</th>\n",
       "      <td>0.982634</td>\n",
       "      <td>1.019940</td>\n",
       "      <td>1.010610</td>\n",
       "      <td>1.020662</td>\n",
       "      <td>0.992727</td>\n",
       "      <td>0.990265</td>\n",
       "      <td>1.012712</td>\n",
       "      <td>0.995543</td>\n",
       "      <td>1.006639</td>\n",
       "      <td>1.006419</td>\n",
       "      <td>...</td>\n",
       "      <td>1.006238</td>\n",
       "      <td>1.004151</td>\n",
       "      <td>1.009786</td>\n",
       "      <td>1.008511</td>\n",
       "      <td>1.008673</td>\n",
       "      <td>0.981866</td>\n",
       "      <td>0.999154</td>\n",
       "      <td>0.989530</td>\n",
       "      <td>1.012071</td>\n",
       "      <td>1.018077</td>\n",
       "    </tr>\n",
       "    <tr>\n",
       "      <th>...</th>\n",
       "      <td>...</td>\n",
       "      <td>...</td>\n",
       "      <td>...</td>\n",
       "      <td>...</td>\n",
       "      <td>...</td>\n",
       "      <td>...</td>\n",
       "      <td>...</td>\n",
       "      <td>...</td>\n",
       "      <td>...</td>\n",
       "      <td>...</td>\n",
       "      <td>...</td>\n",
       "      <td>...</td>\n",
       "      <td>...</td>\n",
       "      <td>...</td>\n",
       "      <td>...</td>\n",
       "      <td>...</td>\n",
       "      <td>...</td>\n",
       "      <td>...</td>\n",
       "      <td>...</td>\n",
       "      <td>...</td>\n",
       "      <td>...</td>\n",
       "    </tr>\n",
       "    <tr>\n",
       "      <th>2516</th>\n",
       "      <td>1.299525</td>\n",
       "      <td>2.207895</td>\n",
       "      <td>5.346298</td>\n",
       "      <td>2.095306</td>\n",
       "      <td>3.371490</td>\n",
       "      <td>1.465103</td>\n",
       "      <td>2.005653</td>\n",
       "      <td>2.548320</td>\n",
       "      <td>2.486930</td>\n",
       "      <td>3.068676</td>\n",
       "      <td>...</td>\n",
       "      <td>2.850283</td>\n",
       "      <td>3.212427</td>\n",
       "      <td>0.824228</td>\n",
       "      <td>3.924066</td>\n",
       "      <td>3.735983</td>\n",
       "      <td>2.604602</td>\n",
       "      <td>2.488837</td>\n",
       "      <td>2.003869</td>\n",
       "      <td>2.789046</td>\n",
       "      <td>2.856411</td>\n",
       "    </tr>\n",
       "    <tr>\n",
       "      <th>2517</th>\n",
       "      <td>1.290995</td>\n",
       "      <td>2.213627</td>\n",
       "      <td>5.358640</td>\n",
       "      <td>2.093079</td>\n",
       "      <td>3.346065</td>\n",
       "      <td>1.485375</td>\n",
       "      <td>2.020183</td>\n",
       "      <td>2.562433</td>\n",
       "      <td>2.501557</td>\n",
       "      <td>3.078907</td>\n",
       "      <td>...</td>\n",
       "      <td>2.803222</td>\n",
       "      <td>3.246884</td>\n",
       "      <td>0.822506</td>\n",
       "      <td>3.908470</td>\n",
       "      <td>3.762800</td>\n",
       "      <td>2.582850</td>\n",
       "      <td>2.502638</td>\n",
       "      <td>2.001504</td>\n",
       "      <td>2.786165</td>\n",
       "      <td>2.859933</td>\n",
       "    </tr>\n",
       "    <tr>\n",
       "      <th>2518</th>\n",
       "      <td>1.299294</td>\n",
       "      <td>2.185110</td>\n",
       "      <td>5.431415</td>\n",
       "      <td>2.131509</td>\n",
       "      <td>3.334166</td>\n",
       "      <td>1.472813</td>\n",
       "      <td>2.011329</td>\n",
       "      <td>2.547208</td>\n",
       "      <td>2.470218</td>\n",
       "      <td>3.115790</td>\n",
       "      <td>...</td>\n",
       "      <td>2.833349</td>\n",
       "      <td>3.259222</td>\n",
       "      <td>0.823175</td>\n",
       "      <td>3.939104</td>\n",
       "      <td>3.815800</td>\n",
       "      <td>2.604173</td>\n",
       "      <td>2.500314</td>\n",
       "      <td>1.996866</td>\n",
       "      <td>2.770636</td>\n",
       "      <td>2.806346</td>\n",
       "    </tr>\n",
       "    <tr>\n",
       "      <th>2519</th>\n",
       "      <td>1.306586</td>\n",
       "      <td>2.242332</td>\n",
       "      <td>5.394155</td>\n",
       "      <td>2.158339</td>\n",
       "      <td>3.395886</td>\n",
       "      <td>1.482207</td>\n",
       "      <td>2.003691</td>\n",
       "      <td>2.567830</td>\n",
       "      <td>2.466157</td>\n",
       "      <td>3.130746</td>\n",
       "      <td>...</td>\n",
       "      <td>2.818096</td>\n",
       "      <td>3.258740</td>\n",
       "      <td>0.830232</td>\n",
       "      <td>3.982691</td>\n",
       "      <td>3.796779</td>\n",
       "      <td>2.657095</td>\n",
       "      <td>2.473052</td>\n",
       "      <td>2.019841</td>\n",
       "      <td>2.755814</td>\n",
       "      <td>2.812664</td>\n",
       "    </tr>\n",
       "    <tr>\n",
       "      <th>2520</th>\n",
       "      <td>1.322559</td>\n",
       "      <td>2.217505</td>\n",
       "      <td>5.396471</td>\n",
       "      <td>2.180738</td>\n",
       "      <td>3.415645</td>\n",
       "      <td>1.478937</td>\n",
       "      <td>1.963784</td>\n",
       "      <td>2.575991</td>\n",
       "      <td>2.466623</td>\n",
       "      <td>3.121598</td>\n",
       "      <td>...</td>\n",
       "      <td>2.819692</td>\n",
       "      <td>3.307909</td>\n",
       "      <td>0.832309</td>\n",
       "      <td>3.966547</td>\n",
       "      <td>3.792182</td>\n",
       "      <td>2.692244</td>\n",
       "      <td>2.499229</td>\n",
       "      <td>2.008552</td>\n",
       "      <td>2.763043</td>\n",
       "      <td>2.823028</td>\n",
       "    </tr>\n",
       "  </tbody>\n",
       "</table>\n",
       "<p>2521 rows × 500 columns</p>\n",
       "</div>"
      ],
      "text/plain": [
       "           0         1         2         3         4         5         6    \\\n",
       "0     1.000000  1.000000  1.000000  1.000000  1.000000  1.000000  1.000000   \n",
       "1     0.995017  1.003793  1.012570  1.013127  1.010929  0.991610  1.013182   \n",
       "2     0.978880  1.001299  1.012405  1.013477  1.004184  0.987180  1.019585   \n",
       "3     0.993504  1.022065  1.013210  1.019086  0.983700  0.986849  1.022013   \n",
       "4     0.982634  1.019940  1.010610  1.020662  0.992727  0.990265  1.012712   \n",
       "...        ...       ...       ...       ...       ...       ...       ...   \n",
       "2516  1.299525  2.207895  5.346298  2.095306  3.371490  1.465103  2.005653   \n",
       "2517  1.290995  2.213627  5.358640  2.093079  3.346065  1.485375  2.020183   \n",
       "2518  1.299294  2.185110  5.431415  2.131509  3.334166  1.472813  2.011329   \n",
       "2519  1.306586  2.242332  5.394155  2.158339  3.395886  1.482207  2.003691   \n",
       "2520  1.322559  2.217505  5.396471  2.180738  3.415645  1.478937  1.963784   \n",
       "\n",
       "           7         8         9    ...       490       491       492  \\\n",
       "0     1.000000  1.000000  1.000000  ...  1.000000  1.000000  1.000000   \n",
       "1     1.002730  1.017007  1.015071  ...  0.998487  1.008318  1.004553   \n",
       "2     0.984988  1.026287  1.022476  ...  0.992432  1.003177  1.002009   \n",
       "3     0.991187  1.005100  1.012132  ...  0.998877  1.008210  1.005990   \n",
       "4     0.995543  1.006639  1.006419  ...  1.006238  1.004151  1.009786   \n",
       "...        ...       ...       ...  ...       ...       ...       ...   \n",
       "2516  2.548320  2.486930  3.068676  ...  2.850283  3.212427  0.824228   \n",
       "2517  2.562433  2.501557  3.078907  ...  2.803222  3.246884  0.822506   \n",
       "2518  2.547208  2.470218  3.115790  ...  2.833349  3.259222  0.823175   \n",
       "2519  2.567830  2.466157  3.130746  ...  2.818096  3.258740  0.830232   \n",
       "2520  2.575991  2.466623  3.121598  ...  2.819692  3.307909  0.832309   \n",
       "\n",
       "           493       494       495       496       497       498       499  \n",
       "0     1.000000  1.000000  1.000000  1.000000  1.000000  1.000000  1.000000  \n",
       "1     1.016383  1.001060  0.990952  1.001882  0.992990  1.005456  0.998962  \n",
       "2     1.013300  1.003317  0.986212  1.005919  0.986398  1.008276  1.001923  \n",
       "3     1.013552  0.999628  0.985168  1.002025  0.990051  1.012519  1.000262  \n",
       "4     1.008511  1.008673  0.981866  0.999154  0.989530  1.012071  1.018077  \n",
       "...        ...       ...       ...       ...       ...       ...       ...  \n",
       "2516  3.924066  3.735983  2.604602  2.488837  2.003869  2.789046  2.856411  \n",
       "2517  3.908470  3.762800  2.582850  2.502638  2.001504  2.786165  2.859933  \n",
       "2518  3.939104  3.815800  2.604173  2.500314  1.996866  2.770636  2.806346  \n",
       "2519  3.982691  3.796779  2.657095  2.473052  2.019841  2.755814  2.812664  \n",
       "2520  3.966547  3.792182  2.692244  2.499229  2.008552  2.763043  2.823028  \n",
       "\n",
       "[2521 rows x 500 columns]"
      ]
     },
     "execution_count": 53,
     "metadata": {},
     "output_type": "execute_result"
    }
   ],
   "source": [
    "# Run the Monte Carlo simulation to forecast 10 years cumulative returns\n",
    "MC_20_80.calc_cumulative_return()\n"
   ]
  },
  {
   "cell_type": "code",
   "execution_count": 54,
   "metadata": {},
   "outputs": [
    {
     "data": {
      "image/png": "[encoded data removed]",
      "text/plain": [
       "<Figure size 432x288 with 1 Axes>"
      ]
     },
     "metadata": {
      "needs_background": "light"
     },
     "output_type": "display_data"
    }
   ],
   "source": [
    "# Visualize the 10-year Monte Carlo simulation by creating an\n",
    "# overlay line plot\n",
    "MC_20_80_line_plot = MC_20_80.plot_simulation()\n"
   ]
  },
  {
   "cell_type": "code",
   "execution_count": 55,
   "metadata": {},
   "outputs": [
    {
     "data": {
      "image/png": "[encoded data removed]",
      "text/plain": [
       "<Figure size 432x288 with 1 Axes>"
      ]
     },
     "metadata": {
      "needs_background": "light"
     },
     "output_type": "display_data"
    }
   ],
   "source": [
    "# Visualize the probability distribution of the 10-year Monte Carlo simulation \n",
    "# by plotting a histogram\n",
    "MC_20_80_line_plot = MC_20_80.plot_distribution()"
   ]
  },
  {
   "cell_type": "code",
   "execution_count": 56,
   "metadata": {},
   "outputs": [
    {
     "name": "stdout",
     "output_type": "stream",
     "text": [
      "count           500.000000\n",
      "mean              2.694141\n",
      "std               1.229531\n",
      "min               0.669976\n",
      "25%               1.852010\n",
      "50%               2.463580\n",
      "75%               3.307442\n",
      "max               8.183843\n",
      "95% CI Lower      1.027723\n",
      "95% CI Upper      5.753668\n",
      "Name: 2520, dtype: float64\n"
     ]
    }
   ],
   "source": [
    "# Generate summary statistics from the 10-year Monte Carlo simulation results\n",
    "# Save the results as a variable\n",
    "MC_20_80_table = MC_20_80.summarize_cumulative_return()\n",
    "\n",
    "\n",
    "# Review the 10-year Monte Carlo summary statistics\n",
    "print(MC_20_80_table)"
   ]
  },
  {
   "cell_type": "markdown",
   "metadata": {},
   "source": [
    "### Answer the following questions:"
   ]
  },
  {
   "cell_type": "markdown",
   "metadata": {},
   "source": [
    "#### Question: Using the current value of only the stock and bond portion of the member's portfolio and the summary statistics that you generated from the new Monte Carlo simulation, what are the lower and upper bounds for the expected value of the portfolio (with the new weights) with a 95% confidence interval?"
   ]
  },
  {
   "cell_type": "code",
   "execution_count": 57,
   "metadata": {},
   "outputs": [
    {
     "name": "stdout",
     "output_type": "stream",
     "text": [
      "The current balance of the stock and bond portion of your porfolio is $68803.00\n"
     ]
    }
   ],
   "source": [
    "# Print the current balance of the stock and bond portion of the members portfolio\n",
    "print(f\"The current balance of the stock and bond portion of your porfolio is ${total_stocks_bonds:.2f}\")"
   ]
  },
  {
   "cell_type": "code",
   "execution_count": 59,
   "metadata": {},
   "outputs": [
    {
     "name": "stdout",
     "output_type": "stream",
     "text": [
      "Within a 95% confidence interval your current stock/bond portfolio will be between $70710.00 & $395870.00\n"
     ]
    }
   ],
   "source": [
    "# Use the lower and upper `95%` confidence intervals to calculate the range of the possible outcomes for the current stock/bond portfolio\n",
    "ci_lower_ten_cumulative_return = round(MC_20_80_table[8]*total_stocks_bonds)\n",
    "ci_upper_ten_cumulative_return = round(MC_20_80_table[9]*total_stocks_bonds)\n",
    "\n",
    "# Print the result of your calculations\n",
    "print(f\"Within a 95% confidence interval your current stock/bond portfolio will be between ${ci_lower_ten_cumulative_return:.2f} & ${ci_upper_ten_cumulative_return:.2f}\")\n",
    "\n"
   ]
  },
  {
   "cell_type": "markdown",
   "metadata": {},
   "source": [
    "#### Question: Will weighting the portfolio more heavily to stocks allow the credit union members to retire after only 10 years?"
   ]
  },
  {
   "cell_type": "raw",
   "metadata": {},
   "source": [
    "**Answer** This likely will increase your short-term returns, but time in the market is what is lacking. Weighting more heavily to stocks will speed up the growth of the retirement portfolio somewhat, but will not allow retirement, based on average return, in only 10 years. "
   ]
  },
  {
   "cell_type": "code",
   "execution_count": null,
   "metadata": {},
   "outputs": [],
   "source": []
  }
 ],
 "metadata": {
  "kernelspec": {
   "display_name": "dev",
   "language": "python",
   "name": "dev"
  },
  "language_info": {
   "codemirror_mode": {
    "name": "ipython",
    "version": 3
   },
   "file_extension": ".py",
   "mimetype": "text/x-python",
   "name": "python",
   "nbconvert_exporter": "python",
   "pygments_lexer": "ipython3",
   "version": "3.7.9"
  }
 },
 "nbformat": 4,
 "nbformat_minor": 4
}
