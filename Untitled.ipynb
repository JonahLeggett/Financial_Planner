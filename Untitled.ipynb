{
 "cells": [
  {
   "cell_type": "code",
   "execution_count": 1,
   "id": "cb44e536-96e5-4bca-9a57-f3d2c2b5802f",
   "metadata": {},
   "outputs": [
    {
     "ename": "NameError",
     "evalue": "name 'pd' is not defined",
     "output_type": "error",
     "traceback": [
      "\u001b[0;31m---------------------------------------------------------------------------\u001b[0m",
      "\u001b[0;31mNameError\u001b[0m                                 Traceback (most recent call last)",
      "\u001b[0;32m<ipython-input-1-26643d38eb06>\u001b[0m in \u001b[0;36m<module>\u001b[0;34m\u001b[0m\n\u001b[0;32m----> 1\u001b[0;31m \u001b[0mstart_date_1\u001b[0m \u001b[0;34m=\u001b[0m \u001b[0mpd\u001b[0m\u001b[0;34m.\u001b[0m\u001b[0mTimestamp\u001b[0m\u001b[0;34m(\u001b[0m\u001b[0;34m\"2019-04-30\"\u001b[0m\u001b[0;34m,\u001b[0m \u001b[0mtz\u001b[0m\u001b[0;34m=\u001b[0m\u001b[0;34m\"America/New_York\"\u001b[0m\u001b[0;34m)\u001b[0m\u001b[0;34m.\u001b[0m\u001b[0misoformat\u001b[0m\u001b[0;34m(\u001b[0m\u001b[0;34m)\u001b[0m\u001b[0;34m\u001b[0m\u001b[0;34m\u001b[0m\u001b[0m\n\u001b[0m\u001b[1;32m      2\u001b[0m \u001b[0mend_date_1\u001b[0m \u001b[0;34m=\u001b[0m \u001b[0mpd\u001b[0m\u001b[0;34m.\u001b[0m\u001b[0mTimestamp\u001b[0m\u001b[0;34m(\u001b[0m\u001b[0;34m\"2021-04-30\"\u001b[0m\u001b[0;34m,\u001b[0m \u001b[0mtz\u001b[0m\u001b[0;34m=\u001b[0m\u001b[0;34m\"America/New_York\"\u001b[0m\u001b[0;34m)\u001b[0m\u001b[0;34m.\u001b[0m\u001b[0misoformat\u001b[0m\u001b[0;34m(\u001b[0m\u001b[0;34m)\u001b[0m\u001b[0;34m\u001b[0m\u001b[0;34m\u001b[0m\u001b[0m\n\u001b[1;32m      3\u001b[0m \u001b[0;34m\u001b[0m\u001b[0m\n",
      "\u001b[0;31mNameError\u001b[0m: name 'pd' is not defined"
     ]
    }
   ],
   "source": [
    "start_date_1 = pd.Timestamp(\"2019-04-30\", tz=\"America/New_York\").isoformat()\n",
    "end_date_1 = pd.Timestamp(\"2021-04-30\", tz=\"America/New_York\").isoformat()\n",
    "\n"
   ]
  },
  {
   "cell_type": "code",
   "execution_count": null,
   "id": "ae839e51-4ddb-4c42-93c1-bfc2c47614b0",
   "metadata": {},
   "outputs": [],
   "source": [
    "start_date_2 = pd.Timestamp(\"2017-04-30\", tz=\"America/New_York\").isoformat()\n",
    "end_date_2 = pd.Timestamp(\"2019-04-30\", tz=\"America/New_York\").isoformat()"
   ]
  },
  {
   "cell_type": "code",
   "execution_count": null,
   "id": "c3a57ea9-7b35-457c-90b5-db4f4e900cef",
   "metadata": {},
   "outputs": [],
   "source": [
    "start_date_3 = pd.Timestamp(\"2015-04-30\", tz=\"America/New_York\").isoformat()\n",
    "end_date_3 = pd.Timestamp(\"2017-04-30\", tz=\"America/New_York\").isoformat()"
   ]
  },
  {
   "cell_type": "code",
   "execution_count": null,
   "id": "5e21f5cf-d54c-4a7e-9a13-7657b2510aea",
   "metadata": {},
   "outputs": [],
   "source": [
    "start_date_4 = pd.Timestamp(\"2013-04-30\", tz=\"America/New_York\").isoformat()\n",
    "end_date_4 = pd.Timestamp(\"2015-04-30\", tz=\"America/New_York\").isoformat()"
   ]
  },
  {
   "cell_type": "code",
   "execution_count": null,
   "id": "8da17c80-ab3c-4b52-9fe3-9db8490cd989",
   "metadata": {},
   "outputs": [],
   "source": [
    "start_date_5 = pd.Timestamp(\"2011-04-30\", tz=\"America/New_York\").isoformat()\n",
    "end_date_5 = pd.Timestamp(\"2013-04-30\", tz=\"America/New_York\").isoformat()"
   ]
  },
  {
   "cell_type": "code",
   "execution_count": null,
   "id": "fd8d33b4-2933-43ef-a938-0851d2650c99",
   "metadata": {},
   "outputs": [],
   "source": [
    "alpaca_prices_df = alpaca.get_barset(\n",
    "    tickers,\n",
    "    timeframe,\n",
    "    start=[start_date_1, start_date_2, start_date_3, start_date_4, start_date_5],\n",
    "    end=[end_date_1, end_date_2, end_date_3, end_date_4, end_date_5],\n",
    "    limit=1000\n",
    ").df\n",
    "\n",
    "\n",
    "# Display both the first and last five rows of the DataFrame\n",
    "display(alpaca_prices_df.head())\n",
    "display(alpaca_prices_df.tail())"
   ]
  }
 ],
 "metadata": {
  "kernelspec": {
   "display_name": "Python 3",
   "language": "python",
   "name": "python3"
  },
  "language_info": {
   "codemirror_mode": {
    "name": "ipython",
    "version": 3
   },
   "file_extension": ".py",
   "mimetype": "text/x-python",
   "name": "python",
   "nbconvert_exporter": "python",
   "pygments_lexer": "ipython3",
   "version": "3.7.9"
  }
 },
 "nbformat": 4,
 "nbformat_minor": 5
}
